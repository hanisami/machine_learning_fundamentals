{
 "cells": [
  {
   "cell_type": "markdown",
   "id": "fc79dde2",
   "metadata": {
    "papermill": {
     "duration": 0.026091,
     "end_time": "2023-12-03T19:47:47.778575",
     "exception": false,
     "start_time": "2023-12-03T19:47:47.752484",
     "status": "completed"
    },
    "tags": []
   },
   "source": [
    "# Random Forest Classification Application"
   ]
  },
  {
   "cell_type": "markdown",
   "id": "01629544",
   "metadata": {
    "papermill": {
     "duration": 0.025949,
     "end_time": "2023-12-03T19:47:48.364374",
     "exception": false,
     "start_time": "2023-12-03T19:47:48.338425",
     "status": "completed"
    },
    "tags": []
   },
   "source": [
    "<div style=\"font-family: Arial, sans-serif; margin: 20px;\">\n",
    "\n",
    "<div style=\"width: 100%; max-width: 800px; margin: 0 auto;\">\n",
    "\n",
    "# Car Evaluation Database\n",
    "\n",
    "The Car Evaluation Database is a dataset often used in machine learning and data analysis to evaluate the condition of used cars based on several categorical attributes. It was derived from a simple hierarchical decision model originally developed by experts to determine the quality of cars. The dataset is widely used for classification tasks.\n",
    "\n",
    "## Information in the Car Evaluation Database\n",
    "\n",
    "The dataset consists of six attributes and a target variable (class). Here’s a breakdown of each:\n",
    "\n",
    "### Attributes\n",
    "\n",
    "<table style=\"width: 100%; border-collapse: collapse; margin-bottom: 20px;\">\n",
    "    <tr>\n",
    "        <th style=\"border: 1px solid #ddd; padding: 8px; text-align: left; background-color: #f2f2f2;\">Attribute</th>\n",
    "        <th style=\"border: 1px solid #ddd; padding: 8px; text-align: left; background-color: #f2f2f2;\">Description</th>\n",
    "        <th style=\"border: 1px solid #ddd; padding: 8px; text-align: left; background-color: #f2f2f2;\">Possible Values</th>\n",
    "    </tr>\n",
    "    <tr>\n",
    "        <td style=\"border: 1px solid #ddd; padding: 8px; text-align: left;\">Buying</td>\n",
    "        <td style=\"border: 1px solid #ddd; padding: 8px; text-align: left;\">Price of the car</td>\n",
    "        <td style=\"border: 1px solid #ddd; padding: 8px; text-align: left;\">v-high, high, med, low</td>\n",
    "    </tr>\n",
    "    <tr>\n",
    "        <td style=\"border: 1px solid #ddd; padding: 8px; text-align: left;\">Maint</td>\n",
    "        <td style=\"border: 1px solid #ddd; padding: 8px; text-align: left;\">Maintenance cost</td>\n",
    "        <td style=\"border: 1px solid #ddd; padding: 8px; text-align: left;\">v-high, high, med, low</td>\n",
    "    </tr>\n",
    "    <tr>\n",
    "        <td style=\"border: 1px solid #ddd; padding: 8px; text-align: left;\">Doors</td>\n",
    "        <td style=\"border: 1px solid #ddd; padding: 8px; text-align: left;\">Number of doors</td>\n",
    "        <td style=\"border: 1px solid #ddd; padding: 8px; text-align: left;\">2, 3, 4, 5-more</td>\n",
    "    </tr>\n",
    "    <tr>\n",
    "        <td style=\"border: 1px solid #ddd; padding: 8px; text-align: left;\">Persons</td>\n",
    "        <td style=\"border: 1px solid #ddd; padding: 8px; text-align: left;\">Capacity in terms of persons to carry</td>\n",
    "        <td style=\"border: 1px solid #ddd; padding: 8px; text-align: left;\">2, 4, more</td>\n",
    "    </tr>\n",
    "    <tr>\n",
    "        <td style=\"border: 1px solid #ddd; padding: 8px; text-align: left;\">Lug_boot</td>\n",
    "        <td style=\"border: 1px solid #ddd; padding: 8px; text-align: left;\">Size of the luggage boot</td>\n",
    "        <td style=\"border: 1px solid #ddd; padding: 8px; text-align: left;\">small, med, big</td>\n",
    "    </tr>\n",
    "    <tr>\n",
    "        <td style=\"border: 1px solid #ddd; padding: 8px; text-align: left;\">Safety</td>\n",
    "        <td style=\"border: 1px solid #ddd; padding: 8px; text-align: left;\">Estimated safety of the car</td>\n",
    "        <td style=\"border: 1px solid #ddd; padding: 8px; text-align: left;\">low, med, high</td>\n",
    "    </tr>\n",
    "</table>\n",
    "\n",
    "### Class\n",
    "\n",
    "Evaluation of the car.\n",
    "\n",
    "<table style=\"width: 100%; border-collapse: collapse; margin-bottom: 20px;\">\n",
    "    <tr>\n",
    "        <th style=\"border: 1px solid #ddd; padding: 8px; text-align: left; background-color: #f2f2f2;\">Class</th>\n",
    "        <th style=\"border: 1px solid #ddd; padding: 8px; text-align: left; background-color: #f2f2f2;\">Description</th>\n",
    "    </tr>\n",
    "    <tr>\n",
    "        <td style=\"border: 1px solid #ddd; padding: 8px; text-align: left;\">unacc</td>\n",
    "        <td style=\"border: 1px solid #ddd; padding: 8px; text-align: left;\">Unacceptable: The car does not meet basic requirements and is considered unfit for purchase.</td>\n",
    "    </tr>\n",
    "    <tr>\n",
    "        <td style=\"border: 1px solid #ddd; padding: 8px; text-align: left;\">acc</td>\n",
    "        <td style=\"border: 1px solid #ddd; padding: 8px; text-align: left;\">Acceptable: The car meets the minimum criteria for purchase.</td>\n",
    "    </tr>\n",
    "    <tr>\n",
    "        <td style=\"border: 1px solid #ddd; padding: 8px; text-align: left;\">good</td>\n",
    "        <td style=\"border: 1px solid #ddd; padding: 8px; text-align: left;\">Good: The car is above average in terms of overall evaluation.</td>\n",
    "    </tr>\n",
    "    <tr>\n",
    "        <td style=\"border: 1px solid #ddd; padding: 8px; text-align: left;\">v-good</td>\n",
    "        <td style=\"border: 1px solid #ddd; padding: 8px; text-align: left;\">Very Good: The car is of high quality and very desirable.</td>\n",
    "    </tr>\n",
    "</table>\n",
    "\n",
    "## Objectives\n",
    "\n",
    "The main goal of this practical exercise is to develop a Random Forest model that uses the Car Evaluation Database.\n",
    "\n",
    "We have previously created Decision Trees models, now we will check the impact of Random Forest on the same dataset\n",
    "\n",
    "\n",
    "Follow the notebook and fill the missing code in the cells, these are indicated using: \\<write your code here\\>\n",
    "\n",
    "</div>\n",
    "\n",
    "</div>\n"
   ]
  },
  {
   "cell_type": "markdown",
   "id": "298e5f8f",
   "metadata": {
    "papermill": {
     "duration": 0.023299,
     "end_time": "2023-12-03T19:47:48.413908",
     "exception": false,
     "start_time": "2023-12-03T19:47:48.390609",
     "status": "completed"
    },
    "tags": []
   },
   "source": [
    "# Importing Required Libraries\n",
    "\n",
    "Note: you may need to install category_encoders, which can be done using either pip3 or conda install."
   ]
  },
  {
   "cell_type": "code",
   "execution_count": 5,
   "id": "a131842d",
   "metadata": {
    "papermill": {
     "duration": 2.378284,
     "end_time": "2023-12-03T19:48:20.027512",
     "exception": false,
     "start_time": "2023-12-03T19:48:17.649228",
     "status": "completed"
    },
    "tags": []
   },
   "outputs": [],
   "source": [
    "import numpy as np\n",
    "import pandas as pd \n",
    "import matplotlib.pyplot as plt\n",
    "import seaborn as sns\n",
    "import category_encoders as ce\n",
    "from sklearn.metrics import classification_report, roc_auc_score\n",
    "from sklearn.model_selection import train_test_split, GridSearchCV, cross_validate, validation_curve\n",
    "from sklearn.tree import DecisionTreeClassifier, export_graphviz, export_text \n",
    "from sklearn.metrics import accuracy_score\n",
    "import warnings\n",
    "warnings.filterwarnings('ignore')"
   ]
  },
  {
   "cell_type": "markdown",
   "id": "95fab884",
   "metadata": {
    "papermill": {
     "duration": 0.023355,
     "end_time": "2023-12-03T19:48:20.074989",
     "exception": false,
     "start_time": "2023-12-03T19:48:20.051634",
     "status": "completed"
    },
    "tags": []
   },
   "source": [
    "# Reading the Data Set"
   ]
  },
  {
   "cell_type": "code",
   "execution_count": 6,
   "id": "0f20cbf4",
   "metadata": {
    "papermill": {
     "duration": 0.077246,
     "end_time": "2023-12-03T19:48:20.175656",
     "exception": false,
     "start_time": "2023-12-03T19:48:20.098410",
     "status": "completed"
    },
    "tags": []
   },
   "outputs": [
    {
     "data": {
      "text/html": [
       "<div>\n",
       "<style scoped>\n",
       "    .dataframe tbody tr th:only-of-type {\n",
       "        vertical-align: middle;\n",
       "    }\n",
       "\n",
       "    .dataframe tbody tr th {\n",
       "        vertical-align: top;\n",
       "    }\n",
       "\n",
       "    .dataframe thead th {\n",
       "        text-align: right;\n",
       "    }\n",
       "</style>\n",
       "<table border=\"1\" class=\"dataframe\">\n",
       "  <thead>\n",
       "    <tr style=\"text-align: right;\">\n",
       "      <th></th>\n",
       "      <th>0</th>\n",
       "      <th>1</th>\n",
       "      <th>2</th>\n",
       "      <th>3</th>\n",
       "      <th>4</th>\n",
       "      <th>5</th>\n",
       "      <th>6</th>\n",
       "    </tr>\n",
       "  </thead>\n",
       "  <tbody>\n",
       "    <tr>\n",
       "      <th>0</th>\n",
       "      <td>vhigh</td>\n",
       "      <td>vhigh</td>\n",
       "      <td>2</td>\n",
       "      <td>2</td>\n",
       "      <td>small</td>\n",
       "      <td>low</td>\n",
       "      <td>unacc</td>\n",
       "    </tr>\n",
       "    <tr>\n",
       "      <th>1</th>\n",
       "      <td>vhigh</td>\n",
       "      <td>vhigh</td>\n",
       "      <td>2</td>\n",
       "      <td>2</td>\n",
       "      <td>small</td>\n",
       "      <td>med</td>\n",
       "      <td>unacc</td>\n",
       "    </tr>\n",
       "    <tr>\n",
       "      <th>2</th>\n",
       "      <td>vhigh</td>\n",
       "      <td>vhigh</td>\n",
       "      <td>2</td>\n",
       "      <td>2</td>\n",
       "      <td>small</td>\n",
       "      <td>high</td>\n",
       "      <td>unacc</td>\n",
       "    </tr>\n",
       "    <tr>\n",
       "      <th>3</th>\n",
       "      <td>vhigh</td>\n",
       "      <td>vhigh</td>\n",
       "      <td>2</td>\n",
       "      <td>2</td>\n",
       "      <td>med</td>\n",
       "      <td>low</td>\n",
       "      <td>unacc</td>\n",
       "    </tr>\n",
       "    <tr>\n",
       "      <th>4</th>\n",
       "      <td>vhigh</td>\n",
       "      <td>vhigh</td>\n",
       "      <td>2</td>\n",
       "      <td>2</td>\n",
       "      <td>med</td>\n",
       "      <td>med</td>\n",
       "      <td>unacc</td>\n",
       "    </tr>\n",
       "  </tbody>\n",
       "</table>\n",
       "</div>"
      ],
      "text/plain": [
       "       0      1  2  3      4     5      6\n",
       "0  vhigh  vhigh  2  2  small   low  unacc\n",
       "1  vhigh  vhigh  2  2  small   med  unacc\n",
       "2  vhigh  vhigh  2  2  small  high  unacc\n",
       "3  vhigh  vhigh  2  2    med   low  unacc\n",
       "4  vhigh  vhigh  2  2    med   med  unacc"
      ]
     },
     "execution_count": 6,
     "metadata": {},
     "output_type": "execute_result"
    }
   ],
   "source": [
    "df = pd.read_csv('./car_evaluation.csv', header=None)\n",
    "df.head()"
   ]
  },
  {
   "cell_type": "markdown",
   "id": "4b99a817",
   "metadata": {
    "papermill": {
     "duration": 0.023756,
     "end_time": "2023-12-03T19:48:20.228345",
     "exception": false,
     "start_time": "2023-12-03T19:48:20.204589",
     "status": "completed"
    },
    "tags": []
   },
   "source": [
    "As can be seen, the column names of the dataset are displayed as the index number. Let's assign these values to the column name"
   ]
  },
  {
   "cell_type": "code",
   "execution_count": 7,
   "id": "9ecbef10",
   "metadata": {
    "papermill": {
     "duration": 0.033776,
     "end_time": "2023-12-03T19:48:20.285787",
     "exception": false,
     "start_time": "2023-12-03T19:48:20.252011",
     "status": "completed"
    },
    "tags": []
   },
   "outputs": [
    {
     "data": {
      "text/plain": [
       "['buying', 'maint', 'doors', 'persons', 'lug_boot', 'safety', 'class']"
      ]
     },
     "execution_count": 7,
     "metadata": {},
     "output_type": "execute_result"
    }
   ],
   "source": [
    "col_names = ['buying', 'maint', 'doors', 'persons', 'lug_boot', 'safety', 'class']\n",
    "\n",
    "df.columns = col_names\n",
    "\n",
    "col_names"
   ]
  },
  {
   "cell_type": "code",
   "execution_count": 8,
   "id": "0f65657e",
   "metadata": {
    "papermill": {
     "duration": 0.041286,
     "end_time": "2023-12-03T19:48:20.351344",
     "exception": false,
     "start_time": "2023-12-03T19:48:20.310058",
     "status": "completed"
    },
    "tags": []
   },
   "outputs": [
    {
     "data": {
      "text/html": [
       "<div>\n",
       "<style scoped>\n",
       "    .dataframe tbody tr th:only-of-type {\n",
       "        vertical-align: middle;\n",
       "    }\n",
       "\n",
       "    .dataframe tbody tr th {\n",
       "        vertical-align: top;\n",
       "    }\n",
       "\n",
       "    .dataframe thead th {\n",
       "        text-align: right;\n",
       "    }\n",
       "</style>\n",
       "<table border=\"1\" class=\"dataframe\">\n",
       "  <thead>\n",
       "    <tr style=\"text-align: right;\">\n",
       "      <th></th>\n",
       "      <th>buying</th>\n",
       "      <th>maint</th>\n",
       "      <th>doors</th>\n",
       "      <th>persons</th>\n",
       "      <th>lug_boot</th>\n",
       "      <th>safety</th>\n",
       "      <th>class</th>\n",
       "    </tr>\n",
       "  </thead>\n",
       "  <tbody>\n",
       "    <tr>\n",
       "      <th>0</th>\n",
       "      <td>vhigh</td>\n",
       "      <td>vhigh</td>\n",
       "      <td>2</td>\n",
       "      <td>2</td>\n",
       "      <td>small</td>\n",
       "      <td>low</td>\n",
       "      <td>unacc</td>\n",
       "    </tr>\n",
       "    <tr>\n",
       "      <th>1</th>\n",
       "      <td>vhigh</td>\n",
       "      <td>vhigh</td>\n",
       "      <td>2</td>\n",
       "      <td>2</td>\n",
       "      <td>small</td>\n",
       "      <td>med</td>\n",
       "      <td>unacc</td>\n",
       "    </tr>\n",
       "    <tr>\n",
       "      <th>2</th>\n",
       "      <td>vhigh</td>\n",
       "      <td>vhigh</td>\n",
       "      <td>2</td>\n",
       "      <td>2</td>\n",
       "      <td>small</td>\n",
       "      <td>high</td>\n",
       "      <td>unacc</td>\n",
       "    </tr>\n",
       "    <tr>\n",
       "      <th>3</th>\n",
       "      <td>vhigh</td>\n",
       "      <td>vhigh</td>\n",
       "      <td>2</td>\n",
       "      <td>2</td>\n",
       "      <td>med</td>\n",
       "      <td>low</td>\n",
       "      <td>unacc</td>\n",
       "    </tr>\n",
       "    <tr>\n",
       "      <th>4</th>\n",
       "      <td>vhigh</td>\n",
       "      <td>vhigh</td>\n",
       "      <td>2</td>\n",
       "      <td>2</td>\n",
       "      <td>med</td>\n",
       "      <td>med</td>\n",
       "      <td>unacc</td>\n",
       "    </tr>\n",
       "  </tbody>\n",
       "</table>\n",
       "</div>"
      ],
      "text/plain": [
       "  buying  maint doors persons lug_boot safety  class\n",
       "0  vhigh  vhigh     2       2    small    low  unacc\n",
       "1  vhigh  vhigh     2       2    small    med  unacc\n",
       "2  vhigh  vhigh     2       2    small   high  unacc\n",
       "3  vhigh  vhigh     2       2      med    low  unacc\n",
       "4  vhigh  vhigh     2       2      med    med  unacc"
      ]
     },
     "execution_count": 8,
     "metadata": {},
     "output_type": "execute_result"
    }
   ],
   "source": [
    "df.head()"
   ]
  },
  {
   "cell_type": "code",
   "execution_count": 9,
   "id": "cbce07b8",
   "metadata": {
    "papermill": {
     "duration": 0.033672,
     "end_time": "2023-12-03T19:48:20.411675",
     "exception": false,
     "start_time": "2023-12-03T19:48:20.378003",
     "status": "completed"
    },
    "tags": []
   },
   "outputs": [
    {
     "data": {
      "text/plain": [
       "(1728, 7)"
      ]
     },
     "execution_count": 9,
     "metadata": {},
     "output_type": "execute_result"
    }
   ],
   "source": [
    "df.shape"
   ]
  },
  {
   "cell_type": "code",
   "execution_count": 10,
   "id": "5fb84981",
   "metadata": {
    "papermill": {
     "duration": 0.046442,
     "end_time": "2023-12-03T19:48:20.482974",
     "exception": false,
     "start_time": "2023-12-03T19:48:20.436532",
     "status": "completed"
    },
    "tags": []
   },
   "outputs": [
    {
     "name": "stdout",
     "output_type": "stream",
     "text": [
      "<class 'pandas.core.frame.DataFrame'>\n",
      "RangeIndex: 1728 entries, 0 to 1727\n",
      "Data columns (total 7 columns):\n",
      " #   Column    Non-Null Count  Dtype \n",
      "---  ------    --------------  ----- \n",
      " 0   buying    1728 non-null   object\n",
      " 1   maint     1728 non-null   object\n",
      " 2   doors     1728 non-null   object\n",
      " 3   persons   1728 non-null   object\n",
      " 4   lug_boot  1728 non-null   object\n",
      " 5   safety    1728 non-null   object\n",
      " 6   class     1728 non-null   object\n",
      "dtypes: object(7)\n",
      "memory usage: 94.6+ KB\n"
     ]
    }
   ],
   "source": [
    "df.info()"
   ]
  },
  {
   "cell_type": "markdown",
   "id": "0ce6a91c",
   "metadata": {
    "papermill": {
     "duration": 0.024725,
     "end_time": "2023-12-03T19:48:20.532972",
     "exception": false,
     "start_time": "2023-12-03T19:48:20.508247",
     "status": "completed"
    },
    "tags": []
   },
   "source": [
    "\n",
    "There are types of variables that are categorical. Now let's look at the value_counts of these values. So my example is how many categories are there for \"buying\" and how many times has it been repeatedd"
   ]
  },
  {
   "cell_type": "code",
   "execution_count": 11,
   "id": "a3daf137",
   "metadata": {
    "papermill": {
     "duration": 0.039953,
     "end_time": "2023-12-03T19:48:20.599768",
     "exception": false,
     "start_time": "2023-12-03T19:48:20.559815",
     "status": "completed"
    },
    "tags": []
   },
   "outputs": [
    {
     "name": "stdout",
     "output_type": "stream",
     "text": [
      "buying\n",
      "vhigh    432\n",
      "high     432\n",
      "med      432\n",
      "low      432\n",
      "Name: count, dtype: int64\n",
      "maint\n",
      "vhigh    432\n",
      "high     432\n",
      "med      432\n",
      "low      432\n",
      "Name: count, dtype: int64\n",
      "doors\n",
      "2        432\n",
      "3        432\n",
      "4        432\n",
      "5more    432\n",
      "Name: count, dtype: int64\n",
      "persons\n",
      "2       576\n",
      "4       576\n",
      "more    576\n",
      "Name: count, dtype: int64\n",
      "lug_boot\n",
      "small    576\n",
      "med      576\n",
      "big      576\n",
      "Name: count, dtype: int64\n",
      "safety\n",
      "low     576\n",
      "med     576\n",
      "high    576\n",
      "Name: count, dtype: int64\n",
      "class\n",
      "unacc    1210\n",
      "acc       384\n",
      "good       69\n",
      "vgood      65\n",
      "Name: count, dtype: int64\n"
     ]
    }
   ],
   "source": [
    "col_names = ['buying', 'maint', 'doors', 'persons', 'lug_boot', 'safety', 'class']\n",
    "\n",
    "for col in col_names:\n",
    "    \n",
    "    print(df[col].value_counts()) "
   ]
  },
  {
   "cell_type": "markdown",
   "id": "2c916536",
   "metadata": {
    "papermill": {
     "duration": 0.023914,
     "end_time": "2023-12-03T19:48:20.647897",
     "exception": false,
     "start_time": "2023-12-03T19:48:20.623983",
     "status": "completed"
    },
    "tags": []
   },
   "source": [
    "# Is there any missing value?"
   ]
  },
  {
   "cell_type": "code",
   "execution_count": 12,
   "id": "07907125",
   "metadata": {
    "papermill": {
     "duration": 0.03654,
     "end_time": "2023-12-03T19:48:20.708821",
     "exception": false,
     "start_time": "2023-12-03T19:48:20.672281",
     "status": "completed"
    },
    "tags": []
   },
   "outputs": [
    {
     "data": {
      "text/plain": [
       "buying      0\n",
       "maint       0\n",
       "doors       0\n",
       "persons     0\n",
       "lug_boot    0\n",
       "safety      0\n",
       "class       0\n",
       "dtype: int64"
      ]
     },
     "execution_count": 12,
     "metadata": {},
     "output_type": "execute_result"
    }
   ],
   "source": [
    "df.isnull().sum()\n",
    "#We can see that there are no missing values in the dataset"
   ]
  },
  {
   "cell_type": "code",
   "execution_count": 14,
   "id": "472f0c22",
   "metadata": {
    "papermill": {
     "duration": 0.033557,
     "end_time": "2023-12-03T19:48:20.826425",
     "exception": false,
     "start_time": "2023-12-03T19:48:20.792868",
     "status": "completed"
    },
    "tags": []
   },
   "outputs": [],
   "source": [
    "X = df.drop(['class'], axis=1)\n",
    "y = df['class']"
   ]
  },
  {
   "cell_type": "code",
   "execution_count": 15,
   "id": "f21b6367",
   "metadata": {
    "papermill": {
     "duration": 0.036651,
     "end_time": "2023-12-03T19:48:20.887652",
     "exception": false,
     "start_time": "2023-12-03T19:48:20.851001",
     "status": "completed"
    },
    "tags": []
   },
   "outputs": [],
   "source": [
    "# split X and y into training and test sets\n",
    "from sklearn.model_selection import train_test_split \n",
    "X_train,X_test,y_train,y_test=train_test_split(X,y,test_size=0.33, random_state=42)"
   ]
  },
  {
   "cell_type": "code",
   "execution_count": 16,
   "id": "91f7cd1c",
   "metadata": {
    "papermill": {
     "duration": 0.033815,
     "end_time": "2023-12-03T19:48:20.946311",
     "exception": false,
     "start_time": "2023-12-03T19:48:20.912496",
     "status": "completed"
    },
    "tags": []
   },
   "outputs": [
    {
     "data": {
      "text/plain": [
       "((1157, 6), (571, 6))"
      ]
     },
     "execution_count": 16,
     "metadata": {},
     "output_type": "execute_result"
    }
   ],
   "source": [
    "# checking the shape of train and test \n",
    "X_train.shape,X_test.shape "
   ]
  },
  {
   "cell_type": "markdown",
   "id": "d8a2a2b9",
   "metadata": {
    "papermill": {
     "duration": 0.024815,
     "end_time": "2023-12-03T19:48:20.995807",
     "exception": false,
     "start_time": "2023-12-03T19:48:20.970992",
     "status": "completed"
    },
    "tags": []
   },
   "source": [
    "# Future Engineering"
   ]
  },
  {
   "cell_type": "code",
   "execution_count": 17,
   "id": "09274c74",
   "metadata": {
    "papermill": {
     "duration": 0.034533,
     "end_time": "2023-12-03T19:48:21.054942",
     "exception": false,
     "start_time": "2023-12-03T19:48:21.020409",
     "status": "completed"
    },
    "tags": []
   },
   "outputs": [
    {
     "data": {
      "text/plain": [
       "buying      object\n",
       "maint       object\n",
       "doors       object\n",
       "persons     object\n",
       "lug_boot    object\n",
       "safety      object\n",
       "dtype: object"
      ]
     },
     "execution_count": 17,
     "metadata": {},
     "output_type": "execute_result"
    }
   ],
   "source": [
    "X_train.dtypes"
   ]
  },
  {
   "cell_type": "code",
   "execution_count": 18,
   "id": "2ba563ea",
   "metadata": {
    "papermill": {
     "duration": 0.03902,
     "end_time": "2023-12-03T19:48:21.118594",
     "exception": false,
     "start_time": "2023-12-03T19:48:21.079574",
     "status": "completed"
    },
    "tags": []
   },
   "outputs": [
    {
     "data": {
      "text/html": [
       "<div>\n",
       "<style scoped>\n",
       "    .dataframe tbody tr th:only-of-type {\n",
       "        vertical-align: middle;\n",
       "    }\n",
       "\n",
       "    .dataframe tbody tr th {\n",
       "        vertical-align: top;\n",
       "    }\n",
       "\n",
       "    .dataframe thead th {\n",
       "        text-align: right;\n",
       "    }\n",
       "</style>\n",
       "<table border=\"1\" class=\"dataframe\">\n",
       "  <thead>\n",
       "    <tr style=\"text-align: right;\">\n",
       "      <th></th>\n",
       "      <th>buying</th>\n",
       "      <th>maint</th>\n",
       "      <th>doors</th>\n",
       "      <th>persons</th>\n",
       "      <th>lug_boot</th>\n",
       "      <th>safety</th>\n",
       "    </tr>\n",
       "  </thead>\n",
       "  <tbody>\n",
       "    <tr>\n",
       "      <th>48</th>\n",
       "      <td>vhigh</td>\n",
       "      <td>vhigh</td>\n",
       "      <td>3</td>\n",
       "      <td>more</td>\n",
       "      <td>med</td>\n",
       "      <td>low</td>\n",
       "    </tr>\n",
       "    <tr>\n",
       "      <th>468</th>\n",
       "      <td>high</td>\n",
       "      <td>vhigh</td>\n",
       "      <td>3</td>\n",
       "      <td>4</td>\n",
       "      <td>small</td>\n",
       "      <td>low</td>\n",
       "    </tr>\n",
       "    <tr>\n",
       "      <th>155</th>\n",
       "      <td>vhigh</td>\n",
       "      <td>high</td>\n",
       "      <td>3</td>\n",
       "      <td>more</td>\n",
       "      <td>small</td>\n",
       "      <td>high</td>\n",
       "    </tr>\n",
       "    <tr>\n",
       "      <th>1721</th>\n",
       "      <td>low</td>\n",
       "      <td>low</td>\n",
       "      <td>5more</td>\n",
       "      <td>more</td>\n",
       "      <td>small</td>\n",
       "      <td>high</td>\n",
       "    </tr>\n",
       "    <tr>\n",
       "      <th>1208</th>\n",
       "      <td>med</td>\n",
       "      <td>low</td>\n",
       "      <td>2</td>\n",
       "      <td>more</td>\n",
       "      <td>small</td>\n",
       "      <td>high</td>\n",
       "    </tr>\n",
       "  </tbody>\n",
       "</table>\n",
       "</div>"
      ],
      "text/plain": [
       "     buying  maint  doors persons lug_boot safety\n",
       "48    vhigh  vhigh      3    more      med    low\n",
       "468    high  vhigh      3       4    small    low\n",
       "155   vhigh   high      3    more    small   high\n",
       "1721    low    low  5more    more    small   high\n",
       "1208    med    low      2    more    small   high"
      ]
     },
     "execution_count": 18,
     "metadata": {},
     "output_type": "execute_result"
    }
   ],
   "source": [
    "X_train.head()"
   ]
  },
  {
   "cell_type": "code",
   "execution_count": 19,
   "id": "d00675a4",
   "metadata": {
    "papermill": {
     "duration": 0.032108,
     "end_time": "2023-12-03T19:48:21.175798",
     "exception": false,
     "start_time": "2023-12-03T19:48:21.143690",
     "status": "completed"
    },
    "tags": []
   },
   "outputs": [],
   "source": [
    "# encoding process in categorical columns\n",
    "import category_encoders as ce"
   ]
  },
  {
   "cell_type": "code",
   "execution_count": 20,
   "id": "943c12c8",
   "metadata": {
    "papermill": {
     "duration": 0.064708,
     "end_time": "2023-12-03T19:48:21.265643",
     "exception": false,
     "start_time": "2023-12-03T19:48:21.200935",
     "status": "completed"
    },
    "tags": []
   },
   "outputs": [],
   "source": [
    "# encode categorical variables with ordinal encoding\n",
    "\n",
    "encoder = ce.OrdinalEncoder(cols=['buying', 'maint', 'doors', 'persons', 'lug_boot', 'safety'])\n",
    "\n",
    "X_train = encoder.fit_transform(X_train)\n",
    "\n",
    "X_test = encoder.transform(X_test)"
   ]
  },
  {
   "cell_type": "code",
   "execution_count": 21,
   "id": "5e557350",
   "metadata": {
    "papermill": {
     "duration": 0.037936,
     "end_time": "2023-12-03T19:48:21.329665",
     "exception": false,
     "start_time": "2023-12-03T19:48:21.291729",
     "status": "completed"
    },
    "tags": []
   },
   "outputs": [
    {
     "data": {
      "text/html": [
       "<div>\n",
       "<style scoped>\n",
       "    .dataframe tbody tr th:only-of-type {\n",
       "        vertical-align: middle;\n",
       "    }\n",
       "\n",
       "    .dataframe tbody tr th {\n",
       "        vertical-align: top;\n",
       "    }\n",
       "\n",
       "    .dataframe thead th {\n",
       "        text-align: right;\n",
       "    }\n",
       "</style>\n",
       "<table border=\"1\" class=\"dataframe\">\n",
       "  <thead>\n",
       "    <tr style=\"text-align: right;\">\n",
       "      <th></th>\n",
       "      <th>buying</th>\n",
       "      <th>maint</th>\n",
       "      <th>doors</th>\n",
       "      <th>persons</th>\n",
       "      <th>lug_boot</th>\n",
       "      <th>safety</th>\n",
       "    </tr>\n",
       "  </thead>\n",
       "  <tbody>\n",
       "    <tr>\n",
       "      <th>48</th>\n",
       "      <td>1</td>\n",
       "      <td>1</td>\n",
       "      <td>1</td>\n",
       "      <td>1</td>\n",
       "      <td>1</td>\n",
       "      <td>1</td>\n",
       "    </tr>\n",
       "    <tr>\n",
       "      <th>468</th>\n",
       "      <td>2</td>\n",
       "      <td>1</td>\n",
       "      <td>1</td>\n",
       "      <td>2</td>\n",
       "      <td>2</td>\n",
       "      <td>1</td>\n",
       "    </tr>\n",
       "    <tr>\n",
       "      <th>155</th>\n",
       "      <td>1</td>\n",
       "      <td>2</td>\n",
       "      <td>1</td>\n",
       "      <td>1</td>\n",
       "      <td>2</td>\n",
       "      <td>2</td>\n",
       "    </tr>\n",
       "    <tr>\n",
       "      <th>1721</th>\n",
       "      <td>3</td>\n",
       "      <td>3</td>\n",
       "      <td>2</td>\n",
       "      <td>1</td>\n",
       "      <td>2</td>\n",
       "      <td>2</td>\n",
       "    </tr>\n",
       "    <tr>\n",
       "      <th>1208</th>\n",
       "      <td>4</td>\n",
       "      <td>3</td>\n",
       "      <td>3</td>\n",
       "      <td>1</td>\n",
       "      <td>2</td>\n",
       "      <td>2</td>\n",
       "    </tr>\n",
       "  </tbody>\n",
       "</table>\n",
       "</div>"
      ],
      "text/plain": [
       "      buying  maint  doors  persons  lug_boot  safety\n",
       "48         1      1      1        1         1       1\n",
       "468        2      1      1        2         2       1\n",
       "155        1      2      1        1         2       2\n",
       "1721       3      3      2        1         2       2\n",
       "1208       4      3      3        1         2       2"
      ]
     },
     "execution_count": 21,
     "metadata": {},
     "output_type": "execute_result"
    }
   ],
   "source": [
    "X_train.head()"
   ]
  },
  {
   "cell_type": "code",
   "execution_count": 22,
   "id": "6906d69c",
   "metadata": {
    "papermill": {
     "duration": 0.038166,
     "end_time": "2023-12-03T19:48:21.393108",
     "exception": false,
     "start_time": "2023-12-03T19:48:21.354942",
     "status": "completed"
    },
    "tags": []
   },
   "outputs": [
    {
     "data": {
      "text/html": [
       "<div>\n",
       "<style scoped>\n",
       "    .dataframe tbody tr th:only-of-type {\n",
       "        vertical-align: middle;\n",
       "    }\n",
       "\n",
       "    .dataframe tbody tr th {\n",
       "        vertical-align: top;\n",
       "    }\n",
       "\n",
       "    .dataframe thead th {\n",
       "        text-align: right;\n",
       "    }\n",
       "</style>\n",
       "<table border=\"1\" class=\"dataframe\">\n",
       "  <thead>\n",
       "    <tr style=\"text-align: right;\">\n",
       "      <th></th>\n",
       "      <th>buying</th>\n",
       "      <th>maint</th>\n",
       "      <th>doors</th>\n",
       "      <th>persons</th>\n",
       "      <th>lug_boot</th>\n",
       "      <th>safety</th>\n",
       "    </tr>\n",
       "  </thead>\n",
       "  <tbody>\n",
       "    <tr>\n",
       "      <th>599</th>\n",
       "      <td>2</td>\n",
       "      <td>2</td>\n",
       "      <td>4</td>\n",
       "      <td>3</td>\n",
       "      <td>1</td>\n",
       "      <td>2</td>\n",
       "    </tr>\n",
       "    <tr>\n",
       "      <th>1201</th>\n",
       "      <td>4</td>\n",
       "      <td>3</td>\n",
       "      <td>3</td>\n",
       "      <td>2</td>\n",
       "      <td>1</td>\n",
       "      <td>3</td>\n",
       "    </tr>\n",
       "    <tr>\n",
       "      <th>628</th>\n",
       "      <td>2</td>\n",
       "      <td>2</td>\n",
       "      <td>2</td>\n",
       "      <td>3</td>\n",
       "      <td>3</td>\n",
       "      <td>3</td>\n",
       "    </tr>\n",
       "    <tr>\n",
       "      <th>1498</th>\n",
       "      <td>3</td>\n",
       "      <td>2</td>\n",
       "      <td>2</td>\n",
       "      <td>2</td>\n",
       "      <td>1</td>\n",
       "      <td>3</td>\n",
       "    </tr>\n",
       "    <tr>\n",
       "      <th>1263</th>\n",
       "      <td>4</td>\n",
       "      <td>3</td>\n",
       "      <td>4</td>\n",
       "      <td>1</td>\n",
       "      <td>1</td>\n",
       "      <td>1</td>\n",
       "    </tr>\n",
       "  </tbody>\n",
       "</table>\n",
       "</div>"
      ],
      "text/plain": [
       "      buying  maint  doors  persons  lug_boot  safety\n",
       "599        2      2      4        3         1       2\n",
       "1201       4      3      3        2         1       3\n",
       "628        2      2      2        3         3       3\n",
       "1498       3      2      2        2         1       3\n",
       "1263       4      3      4        1         1       1"
      ]
     },
     "execution_count": 22,
     "metadata": {},
     "output_type": "execute_result"
    }
   ],
   "source": [
    "X_test.head()"
   ]
  },
  {
   "cell_type": "markdown",
   "id": "7ed0e568",
   "metadata": {
    "papermill": {
     "duration": 0.025342,
     "end_time": "2023-12-03T19:48:21.445265",
     "exception": false,
     "start_time": "2023-12-03T19:48:21.419923",
     "status": "completed"
    },
    "tags": []
   },
   "source": [
    "# Decision Tree Classifier "
   ]
  },
  {
   "cell_type": "code",
   "execution_count": 20,
   "id": "3ad86501",
   "metadata": {
    "execution": {
     "iopub.execute_input": "2023-12-03T19:48:21.498362Z",
     "iopub.status.busy": "2023-12-03T19:48:21.497407Z",
     "iopub.status.idle": "2023-12-03T19:48:21.501904Z",
     "shell.execute_reply": "2023-12-03T19:48:21.501012Z"
    },
    "papermill": {
     "duration": 0.033043,
     "end_time": "2023-12-03T19:48:21.503916",
     "exception": false,
     "start_time": "2023-12-03T19:48:21.470873",
     "status": "completed"
    },
    "tags": []
   },
   "outputs": [],
   "source": [
    "# import RandomForestClassifier\n",
    "from sklearn.ensemble import RandomForestClassifier"
   ]
  },
  {
   "cell_type": "markdown",
   "id": "68262fd4-7619-4db4-bfc0-9a542c46fdcc",
   "metadata": {},
   "source": [
    "### 1: Create a random forest classifier and train your model on the training data (no need to set the number of estimators for now)"
   ]
  },
  {
   "cell_type": "code",
   "execution_count": 23,
   "id": "c9b9106d",
   "metadata": {
    "papermill": {
     "duration": 0.044198,
     "end_time": "2023-12-03T19:48:21.573646",
     "exception": false,
     "start_time": "2023-12-03T19:48:21.529448",
     "status": "completed"
    },
    "tags": []
   },
   "outputs": [],
   "source": [
    "# <write your code here>"
   ]
  },
  {
   "cell_type": "markdown",
   "id": "3c23c48e-3868-444b-87c6-bbb29eba627a",
   "metadata": {},
   "source": [
    "### 2: Evaluate the model accuracy on the test data"
   ]
  },
  {
   "cell_type": "code",
   "execution_count": 24,
   "id": "5358b781",
   "metadata": {
    "papermill": {
     "duration": 0.034708,
     "end_time": "2023-12-03T19:48:21.634367",
     "exception": false,
     "start_time": "2023-12-03T19:48:21.599659",
     "status": "completed"
    },
    "tags": []
   },
   "outputs": [],
   "source": [
    "# <write your code here>"
   ]
  },
  {
   "cell_type": "markdown",
   "id": "2fc56f1c-b3bd-4ddc-ac15-89c5fa3e48a5",
   "metadata": {
    "execution": {
     "iopub.execute_input": "2023-12-03T19:48:21.928511Z",
     "iopub.status.busy": "2023-12-03T19:48:21.927891Z",
     "iopub.status.idle": "2023-12-03T19:48:21.941485Z",
     "shell.execute_reply": "2023-12-03T19:48:21.940437Z"
    },
    "papermill": {
     "duration": 0.043304,
     "end_time": "2023-12-03T19:48:21.943667",
     "exception": false,
     "start_time": "2023-12-03T19:48:21.900363",
     "status": "completed"
    },
    "tags": []
   },
   "source": [
    "### 3. Update the number of estimators and observe the change in accuracy. Report the number of estimator that gives you the highest test accuracy."
   ]
  },
  {
   "cell_type": "code",
   "execution_count": 25,
   "id": "b856b384",
   "metadata": {
    "papermill": {
     "duration": 0.540218,
     "end_time": "2023-12-03T19:48:22.511726",
     "exception": false,
     "start_time": "2023-12-03T19:48:21.971508",
     "status": "completed"
    },
    "tags": []
   },
   "outputs": [],
   "source": [
    "# <write your code here>"
   ]
  },
  {
   "cell_type": "markdown",
   "id": "3c777c10-6f11-49aa-a12a-fca87bfd0637",
   "metadata": {},
   "source": [
    "### 4: Print the features importance"
   ]
  },
  {
   "cell_type": "code",
   "execution_count": 26,
   "id": "3d94dbf8",
   "metadata": {
    "papermill": {
     "duration": 0.241823,
     "end_time": "2023-12-03T19:48:22.781607",
     "exception": false,
     "start_time": "2023-12-03T19:48:22.539784",
     "status": "completed"
    },
    "tags": []
   },
   "outputs": [],
   "source": [
    "# <write your code here>"
   ]
  },
  {
   "cell_type": "markdown",
   "id": "8f0241c2-4592-4312-bcfb-fc92fda145d5",
   "metadata": {
    "execution": {
     "iopub.execute_input": "2023-12-03T19:48:24.060186Z",
     "iopub.status.busy": "2023-12-03T19:48:24.059857Z",
     "iopub.status.idle": "2023-12-03T19:48:24.092834Z",
     "shell.execute_reply": "2023-12-03T19:48:24.091666Z"
    },
    "papermill": {
     "duration": 0.067933,
     "end_time": "2023-12-03T19:48:24.094925",
     "exception": false,
     "start_time": "2023-12-03T19:48:24.026992",
     "status": "completed"
    },
    "tags": []
   },
   "source": [
    "### 5: Did we get better performance using random forest compared to decision trees? explain."
   ]
  },
  {
   "cell_type": "markdown",
   "id": "6b700545",
   "metadata": {
    "papermill": {
     "duration": 0.030989,
     "end_time": "2023-12-03T19:48:24.157347",
     "exception": false,
     "start_time": "2023-12-03T19:48:24.126358",
     "status": "completed"
    },
    "tags": []
   },
   "source": [
    "**write your answer here**"
   ]
  }
 ],
 "metadata": {
  "kaggle": {
   "accelerator": "gpu",
   "dataSources": [
    {
     "datasetId": 2298,
     "sourceId": 3884,
     "sourceType": "datasetVersion"
    }
   ],
   "dockerImageVersionId": 30588,
   "isGpuEnabled": true,
   "isInternetEnabled": true,
   "language": "python",
   "sourceType": "notebook"
  },
  "kernelspec": {
   "display_name": "Python 3 (ipykernel)",
   "language": "python",
   "name": "python3"
  },
  "language_info": {
   "codemirror_mode": {
    "name": "ipython",
    "version": 3
   },
   "file_extension": ".py",
   "mimetype": "text/x-python",
   "name": "python",
   "nbconvert_exporter": "python",
   "pygments_lexer": "ipython3",
   "version": "3.9.19"
  },
  "papermill": {
   "default_parameters": {},
   "duration": 40.12866,
   "end_time": "2023-12-03T19:48:24.607001",
   "environment_variables": {},
   "exception": null,
   "input_path": "__notebook__.ipynb",
   "output_path": "__notebook__.ipynb",
   "parameters": {},
   "start_time": "2023-12-03T19:47:44.478341",
   "version": "2.4.0"
  }
 },
 "nbformat": 4,
 "nbformat_minor": 5
}
