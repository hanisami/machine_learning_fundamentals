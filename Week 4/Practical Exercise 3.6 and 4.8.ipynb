{
 "cells": [
  {
   "cell_type": "markdown",
   "id": "a166bca0-0a43-4aea-818b-6606780a484c",
   "metadata": {},
   "source": [
    "## Customer Segmentation Classification"
   ]
  },
  {
   "cell_type": "markdown",
   "id": "6ca36f07-b26b-4066-872a-cb7e24629807",
   "metadata": {},
   "source": [
    "### Context\n",
    "An automobile company has plans to enter new markets with their existing products (P1, P2, P3, P4, and P5). After intensive market research, they’ve deduced that the behavior of the new market is similar to their existing market.\n",
    "\n",
    "In their existing market, the sales team has classified all customers into 4 segments (A, B, C, D ). Then, they performed segmented outreach and communication for a different segment of customers. This strategy has work e exceptionally well for them. They plan to use the same strategy for the new markets and have identified 2627 new potential customers.\n",
    "\n",
    "You are required to help the manager to predict the right group of the new customers."
   ]
  },
  {
   "cell_type": "code",
   "execution_count": 1,
   "id": "1f62a934-49b4-43a2-b7b4-978718b4fb4f",
   "metadata": {},
   "outputs": [],
   "source": [
    "import numpy as np\n",
    "import pandas as pd\n",
    "import matplotlib.pyplot as plt\n",
    "import seaborn as sns"
   ]
  },
  {
   "cell_type": "code",
   "execution_count": 2,
   "id": "67f7688e-8000-45c0-a7b7-94366c264db9",
   "metadata": {},
   "outputs": [
    {
     "data": {
      "text/html": [
       "<div>\n",
       "<style scoped>\n",
       "    .dataframe tbody tr th:only-of-type {\n",
       "        vertical-align: middle;\n",
       "    }\n",
       "\n",
       "    .dataframe tbody tr th {\n",
       "        vertical-align: top;\n",
       "    }\n",
       "\n",
       "    .dataframe thead th {\n",
       "        text-align: right;\n",
       "    }\n",
       "</style>\n",
       "<table border=\"1\" class=\"dataframe\">\n",
       "  <thead>\n",
       "    <tr style=\"text-align: right;\">\n",
       "      <th></th>\n",
       "      <th>ID</th>\n",
       "      <th>Gender</th>\n",
       "      <th>Ever_Married</th>\n",
       "      <th>Age</th>\n",
       "      <th>Graduated</th>\n",
       "      <th>Profession</th>\n",
       "      <th>Work_Experience</th>\n",
       "      <th>Spending_Score</th>\n",
       "      <th>Family_Size</th>\n",
       "      <th>Var_1</th>\n",
       "      <th>Segmentation</th>\n",
       "    </tr>\n",
       "  </thead>\n",
       "  <tbody>\n",
       "    <tr>\n",
       "      <th>0</th>\n",
       "      <td>462809</td>\n",
       "      <td>Male</td>\n",
       "      <td>No</td>\n",
       "      <td>22</td>\n",
       "      <td>No</td>\n",
       "      <td>Healthcare</td>\n",
       "      <td>1.0</td>\n",
       "      <td>Low</td>\n",
       "      <td>4.0</td>\n",
       "      <td>Cat_4</td>\n",
       "      <td>D</td>\n",
       "    </tr>\n",
       "    <tr>\n",
       "      <th>1</th>\n",
       "      <td>462643</td>\n",
       "      <td>Female</td>\n",
       "      <td>Yes</td>\n",
       "      <td>38</td>\n",
       "      <td>Yes</td>\n",
       "      <td>Engineer</td>\n",
       "      <td>NaN</td>\n",
       "      <td>Average</td>\n",
       "      <td>3.0</td>\n",
       "      <td>Cat_4</td>\n",
       "      <td>A</td>\n",
       "    </tr>\n",
       "    <tr>\n",
       "      <th>2</th>\n",
       "      <td>466315</td>\n",
       "      <td>Female</td>\n",
       "      <td>Yes</td>\n",
       "      <td>67</td>\n",
       "      <td>Yes</td>\n",
       "      <td>Engineer</td>\n",
       "      <td>1.0</td>\n",
       "      <td>Low</td>\n",
       "      <td>1.0</td>\n",
       "      <td>Cat_6</td>\n",
       "      <td>B</td>\n",
       "    </tr>\n",
       "    <tr>\n",
       "      <th>3</th>\n",
       "      <td>461735</td>\n",
       "      <td>Male</td>\n",
       "      <td>Yes</td>\n",
       "      <td>67</td>\n",
       "      <td>Yes</td>\n",
       "      <td>Lawyer</td>\n",
       "      <td>0.0</td>\n",
       "      <td>High</td>\n",
       "      <td>2.0</td>\n",
       "      <td>Cat_6</td>\n",
       "      <td>B</td>\n",
       "    </tr>\n",
       "    <tr>\n",
       "      <th>4</th>\n",
       "      <td>462669</td>\n",
       "      <td>Female</td>\n",
       "      <td>Yes</td>\n",
       "      <td>40</td>\n",
       "      <td>Yes</td>\n",
       "      <td>Entertainment</td>\n",
       "      <td>NaN</td>\n",
       "      <td>High</td>\n",
       "      <td>6.0</td>\n",
       "      <td>Cat_6</td>\n",
       "      <td>A</td>\n",
       "    </tr>\n",
       "  </tbody>\n",
       "</table>\n",
       "</div>"
      ],
      "text/plain": [
       "       ID  Gender Ever_Married  Age Graduated     Profession  Work_Experience  \\\n",
       "0  462809    Male           No   22        No     Healthcare              1.0   \n",
       "1  462643  Female          Yes   38       Yes       Engineer              NaN   \n",
       "2  466315  Female          Yes   67       Yes       Engineer              1.0   \n",
       "3  461735    Male          Yes   67       Yes         Lawyer              0.0   \n",
       "4  462669  Female          Yes   40       Yes  Entertainment              NaN   \n",
       "\n",
       "  Spending_Score  Family_Size  Var_1 Segmentation  \n",
       "0            Low          4.0  Cat_4            D  \n",
       "1        Average          3.0  Cat_4            A  \n",
       "2            Low          1.0  Cat_6            B  \n",
       "3           High          2.0  Cat_6            B  \n",
       "4           High          6.0  Cat_6            A  "
      ]
     },
     "execution_count": 2,
     "metadata": {},
     "output_type": "execute_result"
    }
   ],
   "source": [
    "df = pd.read_csv('./customer_segmentation/Train.csv')\n",
    "df.head()"
   ]
  },
  {
   "cell_type": "markdown",
   "id": "bd70ad1b-2110-4a47-8d5b-ff3b1bef4dd5",
   "metadata": {},
   "source": [
    "- ID Unique ID\n",
    "- Gender Gender of the customer\n",
    "- Ever_Married Marital status of the customer\n",
    "- Age Age of the customer\n",
    "- Graduated Is the customer a graduate?\n",
    "- Profession Profession of the customer\n",
    "- Work_Experience Work Experience in years\n",
    "- Spending_Score Spending score of the customer\n",
    "- Family_Size Number of family members for the customer (including the customer)\n",
    "- Var_1 Anonymised Category for the customer\n",
    "- Segmentation (target) Customer Segment of the customer"
   ]
  },
  {
   "cell_type": "markdown",
   "id": "a4fcbb2f-3fb8-466f-a353-5711b987969d",
   "metadata": {},
   "source": [
    "### Data Cleaning"
   ]
  },
  {
   "cell_type": "code",
   "execution_count": 3,
   "id": "608323b6-9b2b-4026-82d9-66226b46bcce",
   "metadata": {},
   "outputs": [
    {
     "data": {
      "text/plain": [
       "0"
      ]
     },
     "execution_count": 3,
     "metadata": {},
     "output_type": "execute_result"
    }
   ],
   "source": [
    "df.duplicated().sum()"
   ]
  },
  {
   "cell_type": "code",
   "execution_count": 4,
   "id": "308fcd5b-7a1b-4a14-997f-6f160231ec86",
   "metadata": {},
   "outputs": [
    {
     "data": {
      "text/plain": [
       "ID                   0\n",
       "Gender               0\n",
       "Ever_Married       140\n",
       "Age                  0\n",
       "Graduated           78\n",
       "Profession         124\n",
       "Work_Experience    829\n",
       "Spending_Score       0\n",
       "Family_Size        335\n",
       "Var_1               76\n",
       "Segmentation         0\n",
       "dtype: int64"
      ]
     },
     "execution_count": 4,
     "metadata": {},
     "output_type": "execute_result"
    }
   ],
   "source": [
    "df.isna().sum()"
   ]
  },
  {
   "cell_type": "code",
   "execution_count": 5,
   "id": "24c6ea9c-1abb-4f95-800a-a56ba34eb8ad",
   "metadata": {},
   "outputs": [
    {
     "data": {
      "text/plain": [
       "<AxesSubplot:>"
      ]
     },
     "execution_count": 5,
     "metadata": {},
     "output_type": "execute_result"
    },
    {
     "data": {
      "image/png": "[encoded data removed]",
      "text/plain": [
       "<Figure size 432x288 with 1 Axes>"
      ]
     },
     "metadata": {
      "needs_background": "light"
     },
     "output_type": "display_data"
    }
   ],
   "source": [
    "df['Ever_Married'].hist()"
   ]
  },
  {
   "cell_type": "code",
   "execution_count": 6,
   "id": "77254d6f-2b65-4d64-839e-ece694927f12",
   "metadata": {},
   "outputs": [],
   "source": [
    "df['Ever_Married'].fillna(method='ffill',inplace=True)"
   ]
  },
  {
   "cell_type": "code",
   "execution_count": 7,
   "id": "66ac4215-fa69-43fa-9e8e-a76c8707b020",
   "metadata": {},
   "outputs": [
    {
     "data": {
      "text/plain": [
       "ID                   0\n",
       "Gender               0\n",
       "Ever_Married         0\n",
       "Age                  0\n",
       "Graduated           78\n",
       "Profession         124\n",
       "Work_Experience    829\n",
       "Spending_Score       0\n",
       "Family_Size        335\n",
       "Var_1               76\n",
       "Segmentation         0\n",
       "dtype: int64"
      ]
     },
     "execution_count": 7,
     "metadata": {},
     "output_type": "execute_result"
    }
   ],
   "source": [
    "df.isna().sum()"
   ]
  },
  {
   "cell_type": "code",
   "execution_count": 8,
   "id": "fcd6f809-5bf7-4adc-aff1-9df84f284ba5",
   "metadata": {},
   "outputs": [
    {
     "name": "stdout",
     "output_type": "stream",
     "text": [
      "1.0     2354\n",
      "0.0     2318\n",
      "9.0      474\n",
      "8.0      463\n",
      "2.0      286\n",
      "3.0      255\n",
      "4.0      253\n",
      "6.0      204\n",
      "7.0      196\n",
      "5.0      194\n",
      "10.0      53\n",
      "11.0      50\n",
      "12.0      48\n",
      "13.0      46\n",
      "14.0      45\n",
      "Name: Work_Experience, dtype: int64\n"
     ]
    },
    {
     "data": {
      "text/plain": [
       "<AxesSubplot:xlabel='Work_Experience', ylabel='Count'>"
      ]
     },
     "execution_count": 8,
     "metadata": {},
     "output_type": "execute_result"
    },
    {
     "data": {
      "image/png": "[encoded data removed]",
      "text/plain": [
       "<Figure size 432x288 with 1 Axes>"
      ]
     },
     "metadata": {
      "needs_background": "light"
     },
     "output_type": "display_data"
    }
   ],
   "source": [
    "print(df['Work_Experience'].value_counts())\n",
    "sns.histplot(data=df,x='Work_Experience')"
   ]
  },
  {
   "cell_type": "code",
   "execution_count": 9,
   "id": "f5fde253-d78b-4be5-b8e4-8db53b2d7c83",
   "metadata": {},
   "outputs": [],
   "source": [
    "#filling the missing Work_Experience data\n",
    "df['Work_Experience'] = df['Work_Experience'].fillna(method='ffill')"
   ]
  },
  {
   "cell_type": "code",
   "execution_count": 10,
   "id": "fa23b48a-f54c-4a60-8a32-188b2c4bbae7",
   "metadata": {},
   "outputs": [
    {
     "data": {
      "text/plain": [
       "ID                   0\n",
       "Gender               0\n",
       "Ever_Married         0\n",
       "Age                  0\n",
       "Graduated           78\n",
       "Profession         124\n",
       "Work_Experience      0\n",
       "Spending_Score       0\n",
       "Family_Size        335\n",
       "Var_1               76\n",
       "Segmentation         0\n",
       "dtype: int64"
      ]
     },
     "execution_count": 10,
     "metadata": {},
     "output_type": "execute_result"
    }
   ],
   "source": [
    "df.isna().sum()"
   ]
  },
  {
   "cell_type": "code",
   "execution_count": 11,
   "id": "7bb0b702-a85a-47f3-8a09-68151169cf15",
   "metadata": {},
   "outputs": [
    {
     "data": {
      "text/plain": [
       "Text(0.5, 1.0, 'Profession Distribution')"
      ]
     },
     "execution_count": 11,
     "metadata": {},
     "output_type": "execute_result"
    },
    {
     "data": {
      "image/png": "[encoded data removed]",
      "text/plain": [
       "<Figure size 720x432 with 1 Axes>"
      ]
     },
     "metadata": {
      "needs_background": "light"
     },
     "output_type": "display_data"
    }
   ],
   "source": [
    "plt.figure(figsize=(10,6))\n",
    "df['Profession'].hist(bins=20)\n",
    "plt.title('Profession Distribution')"
   ]
  },
  {
   "cell_type": "code",
   "execution_count": 12,
   "id": "ad684449-eff4-4bdb-8754-da29062f65ae",
   "metadata": {},
   "outputs": [
    {
     "data": {
      "text/plain": [
       "Text(0.5, 1.0, 'Graduated Distribution')"
      ]
     },
     "execution_count": 12,
     "metadata": {},
     "output_type": "execute_result"
    },
    {
     "data": {
      "image/png": "[encoded data removed]",
      "text/plain": [
       "<Figure size 720x432 with 1 Axes>"
      ]
     },
     "metadata": {
      "needs_background": "light"
     },
     "output_type": "display_data"
    }
   ],
   "source": [
    "plt.figure(figsize=(10,6))\n",
    "df['Graduated'].hist(bins=3)\n",
    "plt.title('Graduated Distribution')"
   ]
  },
  {
   "cell_type": "code",
   "execution_count": 13,
   "id": "a266bcdf-efac-45b3-813c-15a54e7a669a",
   "metadata": {},
   "outputs": [
    {
     "data": {
      "text/plain": [
       "Text(0.5, 1.0, 'Family Size Distribution')"
      ]
     },
     "execution_count": 13,
     "metadata": {},
     "output_type": "execute_result"
    },
    {
     "data": {
      "image/png": "[encoded data removed]",
      "text/plain": [
       "<Figure size 720x432 with 1 Axes>"
      ]
     },
     "metadata": {
      "needs_background": "light"
     },
     "output_type": "display_data"
    }
   ],
   "source": [
    "plt.figure(figsize=(10,6))\n",
    "df['Family_Size'].hist(bins=10)\n",
    "plt.title('Family Size Distribution')"
   ]
  },
  {
   "cell_type": "code",
   "execution_count": 14,
   "id": "154bbfd9-5376-465f-b03b-5cd8c1ddad0c",
   "metadata": {},
   "outputs": [
    {
     "data": {
      "text/plain": [
       "Text(0.5, 1.0, 'Anonymous Variable Distribution')"
      ]
     },
     "execution_count": 14,
     "metadata": {},
     "output_type": "execute_result"
    },
    {
     "data": {
      "image/png": "[encoded data removed]",
      "text/plain": [
       "<Figure size 720x432 with 1 Axes>"
      ]
     },
     "metadata": {
      "needs_background": "light"
     },
     "output_type": "display_data"
    }
   ],
   "source": [
    "plt.figure(figsize=(10,6))\n",
    "df['Var_1'].hist(bins=10)\n",
    "plt.title('Anonymous Variable Distribution')"
   ]
  },
  {
   "cell_type": "code",
   "execution_count": 15,
   "id": "cb33c513-a6b2-4aa2-99c2-63a2b45e565d",
   "metadata": {},
   "outputs": [],
   "source": [
    "#filling the missing data for married, profession, family size and var 1\n",
    "df['Var_1'] = df['Var_1'].fillna(method='ffill')\n",
    "df['Family_Size'] = df['Family_Size'].fillna(method='ffill')\n",
    "df['Graduated'] = df['Graduated'].fillna(method='ffill')\n",
    "df['Profession'] = df['Profession'].fillna(method='ffill')"
   ]
  },
  {
   "cell_type": "code",
   "execution_count": 16,
   "id": "089615d4-cfc9-435c-b719-544ab172c50a",
   "metadata": {},
   "outputs": [
    {
     "name": "stdout",
     "output_type": "stream",
     "text": [
      "<class 'pandas.core.frame.DataFrame'>\n",
      "RangeIndex: 8068 entries, 0 to 8067\n",
      "Data columns (total 11 columns):\n",
      " #   Column           Non-Null Count  Dtype  \n",
      "---  ------           --------------  -----  \n",
      " 0   ID               8068 non-null   int64  \n",
      " 1   Gender           8068 non-null   object \n",
      " 2   Ever_Married     8068 non-null   object \n",
      " 3   Age              8068 non-null   int64  \n",
      " 4   Graduated        8068 non-null   object \n",
      " 5   Profession       8068 non-null   object \n",
      " 6   Work_Experience  8068 non-null   float64\n",
      " 7   Spending_Score   8068 non-null   object \n",
      " 8   Family_Size      8068 non-null   float64\n",
      " 9   Var_1            8068 non-null   object \n",
      " 10  Segmentation     8068 non-null   object \n",
      "dtypes: float64(2), int64(2), object(7)\n",
      "memory usage: 693.5+ KB\n"
     ]
    }
   ],
   "source": [
    "df.info()"
   ]
  },
  {
   "cell_type": "markdown",
   "id": "45fc4f21-0ffa-4b4d-8ad4-2d1f6081d146",
   "metadata": {},
   "source": [
    "##### There are no more null instance in the dataframe. However, the data type of the features are not the same. Three can be spotted right now: float, int and object. The next section will deal with the different datatypes."
   ]
  },
  {
   "cell_type": "markdown",
   "id": "89960648-5483-4d6c-92a2-8676b4a39b69",
   "metadata": {},
   "source": [
    "### Data Preprocessing"
   ]
  },
  {
   "cell_type": "markdown",
   "id": "4bd8dcae-0152-47d8-8db9-7b89e5c95d0d",
   "metadata": {},
   "source": [
    "Data can be categorical or numerical. Not all machine learning algorithms can handle categorical data as inputs. Artificial Neural Networks can only take numerical data as inputs. Therefore, it is a good thing to do to turn the data into numerical data."
   ]
  },
  {
   "cell_type": "code",
   "execution_count": 17,
   "id": "3adef806-564a-4582-a9a2-4b0bc45d6802",
   "metadata": {},
   "outputs": [
    {
     "data": {
      "text/plain": [
       "Male      4417\n",
       "Female    3651\n",
       "Name: Gender, dtype: int64"
      ]
     },
     "execution_count": 17,
     "metadata": {},
     "output_type": "execute_result"
    }
   ],
   "source": [
    "df['Gender'].value_counts()"
   ]
  },
  {
   "cell_type": "code",
   "execution_count": 18,
   "id": "91f71920-0a4b-458d-8e1c-f50f0e8bf23d",
   "metadata": {},
   "outputs": [],
   "source": [
    "# Change gender to numeric data\n",
    "def change_gender(gender):\n",
    "    if gender == 'Male':\n",
    "        return 1\n",
    "    else:\n",
    "        return 0\n",
    "df['Gender'] = df['Gender'].apply(change_gender)"
   ]
  },
  {
   "cell_type": "code",
   "execution_count": 19,
   "id": "01477c59-78e6-49ac-8b52-a7912e1ad966",
   "metadata": {},
   "outputs": [
    {
     "data": {
      "text/html": [
       "<div>\n",
       "<style scoped>\n",
       "    .dataframe tbody tr th:only-of-type {\n",
       "        vertical-align: middle;\n",
       "    }\n",
       "\n",
       "    .dataframe tbody tr th {\n",
       "        vertical-align: top;\n",
       "    }\n",
       "\n",
       "    .dataframe thead th {\n",
       "        text-align: right;\n",
       "    }\n",
       "</style>\n",
       "<table border=\"1\" class=\"dataframe\">\n",
       "  <thead>\n",
       "    <tr style=\"text-align: right;\">\n",
       "      <th></th>\n",
       "      <th>ID</th>\n",
       "      <th>Gender</th>\n",
       "      <th>Ever_Married</th>\n",
       "      <th>Age</th>\n",
       "      <th>Graduated</th>\n",
       "      <th>Profession</th>\n",
       "      <th>Work_Experience</th>\n",
       "      <th>Spending_Score</th>\n",
       "      <th>Family_Size</th>\n",
       "      <th>Var_1</th>\n",
       "      <th>Segmentation</th>\n",
       "    </tr>\n",
       "  </thead>\n",
       "  <tbody>\n",
       "    <tr>\n",
       "      <th>0</th>\n",
       "      <td>462809</td>\n",
       "      <td>1</td>\n",
       "      <td>No</td>\n",
       "      <td>22</td>\n",
       "      <td>No</td>\n",
       "      <td>Healthcare</td>\n",
       "      <td>1.0</td>\n",
       "      <td>Low</td>\n",
       "      <td>4.0</td>\n",
       "      <td>Cat_4</td>\n",
       "      <td>D</td>\n",
       "    </tr>\n",
       "    <tr>\n",
       "      <th>1</th>\n",
       "      <td>462643</td>\n",
       "      <td>0</td>\n",
       "      <td>Yes</td>\n",
       "      <td>38</td>\n",
       "      <td>Yes</td>\n",
       "      <td>Engineer</td>\n",
       "      <td>1.0</td>\n",
       "      <td>Average</td>\n",
       "      <td>3.0</td>\n",
       "      <td>Cat_4</td>\n",
       "      <td>A</td>\n",
       "    </tr>\n",
       "    <tr>\n",
       "      <th>2</th>\n",
       "      <td>466315</td>\n",
       "      <td>0</td>\n",
       "      <td>Yes</td>\n",
       "      <td>67</td>\n",
       "      <td>Yes</td>\n",
       "      <td>Engineer</td>\n",
       "      <td>1.0</td>\n",
       "      <td>Low</td>\n",
       "      <td>1.0</td>\n",
       "      <td>Cat_6</td>\n",
       "      <td>B</td>\n",
       "    </tr>\n",
       "    <tr>\n",
       "      <th>3</th>\n",
       "      <td>461735</td>\n",
       "      <td>1</td>\n",
       "      <td>Yes</td>\n",
       "      <td>67</td>\n",
       "      <td>Yes</td>\n",
       "      <td>Lawyer</td>\n",
       "      <td>0.0</td>\n",
       "      <td>High</td>\n",
       "      <td>2.0</td>\n",
       "      <td>Cat_6</td>\n",
       "      <td>B</td>\n",
       "    </tr>\n",
       "    <tr>\n",
       "      <th>4</th>\n",
       "      <td>462669</td>\n",
       "      <td>0</td>\n",
       "      <td>Yes</td>\n",
       "      <td>40</td>\n",
       "      <td>Yes</td>\n",
       "      <td>Entertainment</td>\n",
       "      <td>0.0</td>\n",
       "      <td>High</td>\n",
       "      <td>6.0</td>\n",
       "      <td>Cat_6</td>\n",
       "      <td>A</td>\n",
       "    </tr>\n",
       "  </tbody>\n",
       "</table>\n",
       "</div>"
      ],
      "text/plain": [
       "       ID  Gender Ever_Married  Age Graduated     Profession  Work_Experience  \\\n",
       "0  462809       1           No   22        No     Healthcare              1.0   \n",
       "1  462643       0          Yes   38       Yes       Engineer              1.0   \n",
       "2  466315       0          Yes   67       Yes       Engineer              1.0   \n",
       "3  461735       1          Yes   67       Yes         Lawyer              0.0   \n",
       "4  462669       0          Yes   40       Yes  Entertainment              0.0   \n",
       "\n",
       "  Spending_Score  Family_Size  Var_1 Segmentation  \n",
       "0            Low          4.0  Cat_4            D  \n",
       "1        Average          3.0  Cat_4            A  \n",
       "2            Low          1.0  Cat_6            B  \n",
       "3           High          2.0  Cat_6            B  \n",
       "4           High          6.0  Cat_6            A  "
      ]
     },
     "execution_count": 19,
     "metadata": {},
     "output_type": "execute_result"
    }
   ],
   "source": [
    "categorical_features = ['Ever_Married','Graduated','Profession','Spending_score','Var_1']\n",
    "df.head()"
   ]
  },
  {
   "cell_type": "code",
   "execution_count": 20,
   "id": "4da8af13-5f2c-42a2-bc8f-43ac804c3177",
   "metadata": {},
   "outputs": [
    {
     "name": "stdout",
     "output_type": "stream",
     "text": [
      "Yes    4722\n",
      "No     3346\n",
      "Name: Ever_Married, dtype: int64 \n",
      " Yes    5021\n",
      "No     3047\n",
      "Name: Graduated, dtype: int64\n"
     ]
    }
   ],
   "source": [
    "print(df['Ever_Married'].value_counts(),'\\n', df['Graduated'].value_counts())"
   ]
  },
  {
   "cell_type": "code",
   "execution_count": 21,
   "id": "cd867aa5-1ba3-461b-bb68-7f3a4d753cbf",
   "metadata": {},
   "outputs": [
    {
     "data": {
      "text/html": [
       "<div>\n",
       "<style scoped>\n",
       "    .dataframe tbody tr th:only-of-type {\n",
       "        vertical-align: middle;\n",
       "    }\n",
       "\n",
       "    .dataframe tbody tr th {\n",
       "        vertical-align: top;\n",
       "    }\n",
       "\n",
       "    .dataframe thead th {\n",
       "        text-align: right;\n",
       "    }\n",
       "</style>\n",
       "<table border=\"1\" class=\"dataframe\">\n",
       "  <thead>\n",
       "    <tr style=\"text-align: right;\">\n",
       "      <th></th>\n",
       "      <th>ID</th>\n",
       "      <th>Gender</th>\n",
       "      <th>Ever_Married</th>\n",
       "      <th>Age</th>\n",
       "      <th>Graduated</th>\n",
       "      <th>Profession</th>\n",
       "      <th>Work_Experience</th>\n",
       "      <th>Spending_Score</th>\n",
       "      <th>Family_Size</th>\n",
       "      <th>Var_1</th>\n",
       "      <th>Segmentation</th>\n",
       "    </tr>\n",
       "  </thead>\n",
       "  <tbody>\n",
       "    <tr>\n",
       "      <th>0</th>\n",
       "      <td>462809</td>\n",
       "      <td>1</td>\n",
       "      <td>0</td>\n",
       "      <td>22</td>\n",
       "      <td>0</td>\n",
       "      <td>Healthcare</td>\n",
       "      <td>1.0</td>\n",
       "      <td>Low</td>\n",
       "      <td>4.0</td>\n",
       "      <td>Cat_4</td>\n",
       "      <td>D</td>\n",
       "    </tr>\n",
       "    <tr>\n",
       "      <th>1</th>\n",
       "      <td>462643</td>\n",
       "      <td>0</td>\n",
       "      <td>1</td>\n",
       "      <td>38</td>\n",
       "      <td>1</td>\n",
       "      <td>Engineer</td>\n",
       "      <td>1.0</td>\n",
       "      <td>Average</td>\n",
       "      <td>3.0</td>\n",
       "      <td>Cat_4</td>\n",
       "      <td>A</td>\n",
       "    </tr>\n",
       "    <tr>\n",
       "      <th>2</th>\n",
       "      <td>466315</td>\n",
       "      <td>0</td>\n",
       "      <td>1</td>\n",
       "      <td>67</td>\n",
       "      <td>1</td>\n",
       "      <td>Engineer</td>\n",
       "      <td>1.0</td>\n",
       "      <td>Low</td>\n",
       "      <td>1.0</td>\n",
       "      <td>Cat_6</td>\n",
       "      <td>B</td>\n",
       "    </tr>\n",
       "    <tr>\n",
       "      <th>3</th>\n",
       "      <td>461735</td>\n",
       "      <td>1</td>\n",
       "      <td>1</td>\n",
       "      <td>67</td>\n",
       "      <td>1</td>\n",
       "      <td>Lawyer</td>\n",
       "      <td>0.0</td>\n",
       "      <td>High</td>\n",
       "      <td>2.0</td>\n",
       "      <td>Cat_6</td>\n",
       "      <td>B</td>\n",
       "    </tr>\n",
       "    <tr>\n",
       "      <th>4</th>\n",
       "      <td>462669</td>\n",
       "      <td>0</td>\n",
       "      <td>1</td>\n",
       "      <td>40</td>\n",
       "      <td>1</td>\n",
       "      <td>Entertainment</td>\n",
       "      <td>0.0</td>\n",
       "      <td>High</td>\n",
       "      <td>6.0</td>\n",
       "      <td>Cat_6</td>\n",
       "      <td>A</td>\n",
       "    </tr>\n",
       "  </tbody>\n",
       "</table>\n",
       "</div>"
      ],
      "text/plain": [
       "       ID  Gender  Ever_Married  Age  Graduated     Profession  \\\n",
       "0  462809       1             0   22          0     Healthcare   \n",
       "1  462643       0             1   38          1       Engineer   \n",
       "2  466315       0             1   67          1       Engineer   \n",
       "3  461735       1             1   67          1         Lawyer   \n",
       "4  462669       0             1   40          1  Entertainment   \n",
       "\n",
       "   Work_Experience Spending_Score  Family_Size  Var_1 Segmentation  \n",
       "0              1.0            Low          4.0  Cat_4            D  \n",
       "1              1.0        Average          3.0  Cat_4            A  \n",
       "2              1.0            Low          1.0  Cat_6            B  \n",
       "3              0.0           High          2.0  Cat_6            B  \n",
       "4              0.0           High          6.0  Cat_6            A  "
      ]
     },
     "execution_count": 21,
     "metadata": {},
     "output_type": "execute_result"
    }
   ],
   "source": [
    "# change married and graduated data into numeric using lambda function\n",
    "for i in categorical_features[0:2]:\n",
    "    df[i] = df[i].apply(lambda x: 1 if x=='Yes' else 0)\n",
    "df.head()"
   ]
  },
  {
   "cell_type": "code",
   "execution_count": 22,
   "id": "a3b77bf8-d3a4-4879-8c00-5c6f68aad55d",
   "metadata": {},
   "outputs": [
    {
     "data": {
      "text/html": [
       "<div>\n",
       "<style scoped>\n",
       "    .dataframe tbody tr th:only-of-type {\n",
       "        vertical-align: middle;\n",
       "    }\n",
       "\n",
       "    .dataframe tbody tr th {\n",
       "        vertical-align: top;\n",
       "    }\n",
       "\n",
       "    .dataframe thead th {\n",
       "        text-align: right;\n",
       "    }\n",
       "</style>\n",
       "<table border=\"1\" class=\"dataframe\">\n",
       "  <thead>\n",
       "    <tr style=\"text-align: right;\">\n",
       "      <th></th>\n",
       "      <th>ID</th>\n",
       "      <th>Gender</th>\n",
       "      <th>Ever_Married</th>\n",
       "      <th>Age</th>\n",
       "      <th>Graduated</th>\n",
       "      <th>Profession</th>\n",
       "      <th>Work_Experience</th>\n",
       "      <th>Spending_Score</th>\n",
       "      <th>Family_Size</th>\n",
       "      <th>Var_1</th>\n",
       "      <th>Segmentation</th>\n",
       "    </tr>\n",
       "  </thead>\n",
       "  <tbody>\n",
       "    <tr>\n",
       "      <th>0</th>\n",
       "      <td>462809</td>\n",
       "      <td>1</td>\n",
       "      <td>0</td>\n",
       "      <td>22</td>\n",
       "      <td>0</td>\n",
       "      <td>5</td>\n",
       "      <td>1.0</td>\n",
       "      <td>Low</td>\n",
       "      <td>4.0</td>\n",
       "      <td>Cat_4</td>\n",
       "      <td>D</td>\n",
       "    </tr>\n",
       "    <tr>\n",
       "      <th>1</th>\n",
       "      <td>462643</td>\n",
       "      <td>0</td>\n",
       "      <td>1</td>\n",
       "      <td>38</td>\n",
       "      <td>1</td>\n",
       "      <td>2</td>\n",
       "      <td>1.0</td>\n",
       "      <td>Average</td>\n",
       "      <td>3.0</td>\n",
       "      <td>Cat_4</td>\n",
       "      <td>A</td>\n",
       "    </tr>\n",
       "    <tr>\n",
       "      <th>2</th>\n",
       "      <td>466315</td>\n",
       "      <td>0</td>\n",
       "      <td>1</td>\n",
       "      <td>67</td>\n",
       "      <td>1</td>\n",
       "      <td>2</td>\n",
       "      <td>1.0</td>\n",
       "      <td>Low</td>\n",
       "      <td>1.0</td>\n",
       "      <td>Cat_6</td>\n",
       "      <td>B</td>\n",
       "    </tr>\n",
       "    <tr>\n",
       "      <th>3</th>\n",
       "      <td>461735</td>\n",
       "      <td>1</td>\n",
       "      <td>1</td>\n",
       "      <td>67</td>\n",
       "      <td>1</td>\n",
       "      <td>7</td>\n",
       "      <td>0.0</td>\n",
       "      <td>High</td>\n",
       "      <td>2.0</td>\n",
       "      <td>Cat_6</td>\n",
       "      <td>B</td>\n",
       "    </tr>\n",
       "    <tr>\n",
       "      <th>4</th>\n",
       "      <td>462669</td>\n",
       "      <td>0</td>\n",
       "      <td>1</td>\n",
       "      <td>40</td>\n",
       "      <td>1</td>\n",
       "      <td>3</td>\n",
       "      <td>0.0</td>\n",
       "      <td>High</td>\n",
       "      <td>6.0</td>\n",
       "      <td>Cat_6</td>\n",
       "      <td>A</td>\n",
       "    </tr>\n",
       "  </tbody>\n",
       "</table>\n",
       "</div>"
      ],
      "text/plain": [
       "       ID  Gender  Ever_Married  Age  Graduated  Profession  Work_Experience  \\\n",
       "0  462809       1             0   22          0           5              1.0   \n",
       "1  462643       0             1   38          1           2              1.0   \n",
       "2  466315       0             1   67          1           2              1.0   \n",
       "3  461735       1             1   67          1           7              0.0   \n",
       "4  462669       0             1   40          1           3              0.0   \n",
       "\n",
       "  Spending_Score  Family_Size  Var_1 Segmentation  \n",
       "0            Low          4.0  Cat_4            D  \n",
       "1        Average          3.0  Cat_4            A  \n",
       "2            Low          1.0  Cat_6            B  \n",
       "3           High          2.0  Cat_6            B  \n",
       "4           High          6.0  Cat_6            A  "
      ]
     },
     "execution_count": 22,
     "metadata": {},
     "output_type": "execute_result"
    }
   ],
   "source": [
    "# Label encoder on Profession feature\n",
    "from sklearn.preprocessing import LabelEncoder\n",
    "\n",
    "\n",
    "le = LabelEncoder()\n",
    "y = le.fit_transform(df['Profession'])\n",
    "df['Profession'] = y\n",
    "df.head()"
   ]
  },
  {
   "cell_type": "code",
   "execution_count": 23,
   "id": "e0d74695-48b6-45d0-8563-54c4e014c9da",
   "metadata": {},
   "outputs": [
    {
     "data": {
      "text/html": [
       "<div>\n",
       "<style scoped>\n",
       "    .dataframe tbody tr th:only-of-type {\n",
       "        vertical-align: middle;\n",
       "    }\n",
       "\n",
       "    .dataframe tbody tr th {\n",
       "        vertical-align: top;\n",
       "    }\n",
       "\n",
       "    .dataframe thead th {\n",
       "        text-align: right;\n",
       "    }\n",
       "</style>\n",
       "<table border=\"1\" class=\"dataframe\">\n",
       "  <thead>\n",
       "    <tr style=\"text-align: right;\">\n",
       "      <th></th>\n",
       "      <th>ID</th>\n",
       "      <th>Gender</th>\n",
       "      <th>Ever_Married</th>\n",
       "      <th>Age</th>\n",
       "      <th>Graduated</th>\n",
       "      <th>Profession</th>\n",
       "      <th>Work_Experience</th>\n",
       "      <th>Spending_Score</th>\n",
       "      <th>Family_Size</th>\n",
       "      <th>Var_1</th>\n",
       "      <th>Segmentation</th>\n",
       "    </tr>\n",
       "  </thead>\n",
       "  <tbody>\n",
       "    <tr>\n",
       "      <th>0</th>\n",
       "      <td>462809</td>\n",
       "      <td>1</td>\n",
       "      <td>0</td>\n",
       "      <td>22</td>\n",
       "      <td>0</td>\n",
       "      <td>5</td>\n",
       "      <td>1.0</td>\n",
       "      <td>2</td>\n",
       "      <td>4.0</td>\n",
       "      <td>3</td>\n",
       "      <td>D</td>\n",
       "    </tr>\n",
       "    <tr>\n",
       "      <th>1</th>\n",
       "      <td>462643</td>\n",
       "      <td>0</td>\n",
       "      <td>1</td>\n",
       "      <td>38</td>\n",
       "      <td>1</td>\n",
       "      <td>2</td>\n",
       "      <td>1.0</td>\n",
       "      <td>0</td>\n",
       "      <td>3.0</td>\n",
       "      <td>3</td>\n",
       "      <td>A</td>\n",
       "    </tr>\n",
       "    <tr>\n",
       "      <th>2</th>\n",
       "      <td>466315</td>\n",
       "      <td>0</td>\n",
       "      <td>1</td>\n",
       "      <td>67</td>\n",
       "      <td>1</td>\n",
       "      <td>2</td>\n",
       "      <td>1.0</td>\n",
       "      <td>2</td>\n",
       "      <td>1.0</td>\n",
       "      <td>5</td>\n",
       "      <td>B</td>\n",
       "    </tr>\n",
       "    <tr>\n",
       "      <th>3</th>\n",
       "      <td>461735</td>\n",
       "      <td>1</td>\n",
       "      <td>1</td>\n",
       "      <td>67</td>\n",
       "      <td>1</td>\n",
       "      <td>7</td>\n",
       "      <td>0.0</td>\n",
       "      <td>1</td>\n",
       "      <td>2.0</td>\n",
       "      <td>5</td>\n",
       "      <td>B</td>\n",
       "    </tr>\n",
       "    <tr>\n",
       "      <th>4</th>\n",
       "      <td>462669</td>\n",
       "      <td>0</td>\n",
       "      <td>1</td>\n",
       "      <td>40</td>\n",
       "      <td>1</td>\n",
       "      <td>3</td>\n",
       "      <td>0.0</td>\n",
       "      <td>1</td>\n",
       "      <td>6.0</td>\n",
       "      <td>5</td>\n",
       "      <td>A</td>\n",
       "    </tr>\n",
       "  </tbody>\n",
       "</table>\n",
       "</div>"
      ],
      "text/plain": [
       "       ID  Gender  Ever_Married  Age  Graduated  Profession  Work_Experience  \\\n",
       "0  462809       1             0   22          0           5              1.0   \n",
       "1  462643       0             1   38          1           2              1.0   \n",
       "2  466315       0             1   67          1           2              1.0   \n",
       "3  461735       1             1   67          1           7              0.0   \n",
       "4  462669       0             1   40          1           3              0.0   \n",
       "\n",
       "   Spending_Score  Family_Size  Var_1 Segmentation  \n",
       "0               2          4.0      3            D  \n",
       "1               0          3.0      3            A  \n",
       "2               2          1.0      5            B  \n",
       "3               1          2.0      5            B  \n",
       "4               1          6.0      5            A  "
      ]
     },
     "execution_count": 23,
     "metadata": {},
     "output_type": "execute_result"
    }
   ],
   "source": [
    "# label encoder for spending score and Var_1\n",
    "categorical_features = ['Ever_Married','Graduated','Profession','Spending_Score','Var_1']\n",
    "for i in categorical_features[-2:]:\n",
    "    le = LabelEncoder()\n",
    "    y = le.fit_transform(df[i])\n",
    "    df[i] = y\n",
    "df.head()"
   ]
  },
  {
   "cell_type": "code",
   "execution_count": 24,
   "id": "6aa93b15-2343-4121-ab37-7f7ff8bd627a",
   "metadata": {},
   "outputs": [],
   "source": [
    "df.drop('ID',inplace=True,axis=1)"
   ]
  },
  {
   "cell_type": "code",
   "execution_count": 25,
   "id": "11e6ddcc-9130-4ba0-8d8a-3f7b2784963c",
   "metadata": {},
   "outputs": [
    {
     "data": {
      "text/html": [
       "<div>\n",
       "<style scoped>\n",
       "    .dataframe tbody tr th:only-of-type {\n",
       "        vertical-align: middle;\n",
       "    }\n",
       "\n",
       "    .dataframe tbody tr th {\n",
       "        vertical-align: top;\n",
       "    }\n",
       "\n",
       "    .dataframe thead th {\n",
       "        text-align: right;\n",
       "    }\n",
       "</style>\n",
       "<table border=\"1\" class=\"dataframe\">\n",
       "  <thead>\n",
       "    <tr style=\"text-align: right;\">\n",
       "      <th></th>\n",
       "      <th>Gender</th>\n",
       "      <th>Ever_Married</th>\n",
       "      <th>Age</th>\n",
       "      <th>Graduated</th>\n",
       "      <th>Profession</th>\n",
       "      <th>Work_Experience</th>\n",
       "      <th>Spending_Score</th>\n",
       "      <th>Family_Size</th>\n",
       "      <th>Var_1</th>\n",
       "    </tr>\n",
       "  </thead>\n",
       "  <tbody>\n",
       "    <tr>\n",
       "      <th>count</th>\n",
       "      <td>8068.000000</td>\n",
       "      <td>8068.000000</td>\n",
       "      <td>8068.000000</td>\n",
       "      <td>8068.000000</td>\n",
       "      <td>8068.000000</td>\n",
       "      <td>8068.000000</td>\n",
       "      <td>8068.000000</td>\n",
       "      <td>8068.000000</td>\n",
       "      <td>8068.000000</td>\n",
       "    </tr>\n",
       "    <tr>\n",
       "      <th>mean</th>\n",
       "      <td>0.547471</td>\n",
       "      <td>0.585275</td>\n",
       "      <td>43.466906</td>\n",
       "      <td>0.622335</td>\n",
       "      <td>2.792390</td>\n",
       "      <td>2.618741</td>\n",
       "      <td>1.359941</td>\n",
       "      <td>2.846678</td>\n",
       "      <td>4.138572</td>\n",
       "    </tr>\n",
       "    <tr>\n",
       "      <th>std</th>\n",
       "      <td>0.497772</td>\n",
       "      <td>0.492705</td>\n",
       "      <td>16.711696</td>\n",
       "      <td>0.484833</td>\n",
       "      <td>2.540883</td>\n",
       "      <td>3.394284</td>\n",
       "      <td>0.848418</td>\n",
       "      <td>1.530377</td>\n",
       "      <td>1.425436</td>\n",
       "    </tr>\n",
       "    <tr>\n",
       "      <th>min</th>\n",
       "      <td>0.000000</td>\n",
       "      <td>0.000000</td>\n",
       "      <td>18.000000</td>\n",
       "      <td>0.000000</td>\n",
       "      <td>0.000000</td>\n",
       "      <td>0.000000</td>\n",
       "      <td>0.000000</td>\n",
       "      <td>1.000000</td>\n",
       "      <td>0.000000</td>\n",
       "    </tr>\n",
       "    <tr>\n",
       "      <th>25%</th>\n",
       "      <td>0.000000</td>\n",
       "      <td>0.000000</td>\n",
       "      <td>30.000000</td>\n",
       "      <td>0.000000</td>\n",
       "      <td>0.000000</td>\n",
       "      <td>0.000000</td>\n",
       "      <td>1.000000</td>\n",
       "      <td>2.000000</td>\n",
       "      <td>3.000000</td>\n",
       "    </tr>\n",
       "    <tr>\n",
       "      <th>50%</th>\n",
       "      <td>1.000000</td>\n",
       "      <td>1.000000</td>\n",
       "      <td>40.000000</td>\n",
       "      <td>1.000000</td>\n",
       "      <td>3.000000</td>\n",
       "      <td>1.000000</td>\n",
       "      <td>2.000000</td>\n",
       "      <td>3.000000</td>\n",
       "      <td>5.000000</td>\n",
       "    </tr>\n",
       "    <tr>\n",
       "      <th>75%</th>\n",
       "      <td>1.000000</td>\n",
       "      <td>1.000000</td>\n",
       "      <td>53.000000</td>\n",
       "      <td>1.000000</td>\n",
       "      <td>5.000000</td>\n",
       "      <td>4.000000</td>\n",
       "      <td>2.000000</td>\n",
       "      <td>4.000000</td>\n",
       "      <td>5.000000</td>\n",
       "    </tr>\n",
       "    <tr>\n",
       "      <th>max</th>\n",
       "      <td>1.000000</td>\n",
       "      <td>1.000000</td>\n",
       "      <td>89.000000</td>\n",
       "      <td>1.000000</td>\n",
       "      <td>8.000000</td>\n",
       "      <td>14.000000</td>\n",
       "      <td>2.000000</td>\n",
       "      <td>9.000000</td>\n",
       "      <td>6.000000</td>\n",
       "    </tr>\n",
       "  </tbody>\n",
       "</table>\n",
       "</div>"
      ],
      "text/plain": [
       "            Gender  Ever_Married          Age    Graduated   Profession  \\\n",
       "count  8068.000000   8068.000000  8068.000000  8068.000000  8068.000000   \n",
       "mean      0.547471      0.585275    43.466906     0.622335     2.792390   \n",
       "std       0.497772      0.492705    16.711696     0.484833     2.540883   \n",
       "min       0.000000      0.000000    18.000000     0.000000     0.000000   \n",
       "25%       0.000000      0.000000    30.000000     0.000000     0.000000   \n",
       "50%       1.000000      1.000000    40.000000     1.000000     3.000000   \n",
       "75%       1.000000      1.000000    53.000000     1.000000     5.000000   \n",
       "max       1.000000      1.000000    89.000000     1.000000     8.000000   \n",
       "\n",
       "       Work_Experience  Spending_Score  Family_Size        Var_1  \n",
       "count      8068.000000     8068.000000  8068.000000  8068.000000  \n",
       "mean          2.618741        1.359941     2.846678     4.138572  \n",
       "std           3.394284        0.848418     1.530377     1.425436  \n",
       "min           0.000000        0.000000     1.000000     0.000000  \n",
       "25%           0.000000        1.000000     2.000000     3.000000  \n",
       "50%           1.000000        2.000000     3.000000     5.000000  \n",
       "75%           4.000000        2.000000     4.000000     5.000000  \n",
       "max          14.000000        2.000000     9.000000     6.000000  "
      ]
     },
     "execution_count": 25,
     "metadata": {},
     "output_type": "execute_result"
    }
   ],
   "source": [
    "df.describe()"
   ]
  },
  {
   "cell_type": "markdown",
   "id": "5a4e372a-3ea0-4cd0-9fd4-ed13317b1614",
   "metadata": {},
   "source": [
    "### Splitting Data"
   ]
  },
  {
   "cell_type": "code",
   "execution_count": 26,
   "id": "ad6f014f-1503-4e23-a731-2ef677d3dd6c",
   "metadata": {},
   "outputs": [
    {
     "data": {
      "text/plain": [
       "((6454, 9), (6454,), (1614, 9), (1614,))"
      ]
     },
     "execution_count": 26,
     "metadata": {},
     "output_type": "execute_result"
    }
   ],
   "source": [
    "from sklearn.model_selection import train_test_split\n",
    "\n",
    "X = df.drop('Segmentation',axis=1)\n",
    "y = df['Segmentation']\n",
    "\n",
    "X_train, X_test, y_train, y_test = train_test_split(X, y, test_size=0.2, random_state=42)\n",
    "X_train.shape,y_train.shape,X_test.shape,y_test.shape"
   ]
  },
  {
   "cell_type": "markdown",
   "id": "aad1b1ff-55d1-4e9a-a777-9bf2006149c0",
   "metadata": {},
   "source": [
    "### Normalization"
   ]
  },
  {
   "cell_type": "code",
   "execution_count": 27,
   "id": "2095bce6-caa2-473d-8c77-6e4a3a2adb3c",
   "metadata": {},
   "outputs": [
    {
     "data": {
      "text/plain": [
       "((6454, 9), (6454,), (1614, 9), (1614,))"
      ]
     },
     "execution_count": 27,
     "metadata": {},
     "output_type": "execute_result"
    }
   ],
   "source": [
    "from sklearn.preprocessing import MinMaxScaler\n",
    "scaler = MinMaxScaler()\n",
    "X_train = scaler.fit_transform(X_train)\n",
    "X_test = scaler.transform(X_test)\n",
    "X_train.shape,y_train.shape,X_test.shape,y_test.shape"
   ]
  },
  {
   "cell_type": "markdown",
   "id": "663fa6af",
   "metadata": {},
   "source": [
    "## -------- Practical Exercise 3.6 starts here --------"
   ]
  },
  {
   "cell_type": "markdown",
   "id": "bff92326-36df-483c-b8ff-0a3a70a21a7d",
   "metadata": {},
   "source": [
    "### Training Machine Learning Models"
   ]
  },
  {
   "cell_type": "markdown",
   "id": "68840119",
   "metadata": {},
   "source": [
    "#### Your task in this part of the exercise is to build a Logistic Regression and KNN model"
   ]
  },
  {
   "cell_type": "markdown",
   "id": "93bc98c5",
   "metadata": {},
   "source": [
    "#### Import the LogisticRegression and KNeihborsClassifier models"
   ]
  },
  {
   "cell_type": "code",
   "execution_count": null,
   "id": "5b663c02",
   "metadata": {},
   "outputs": [],
   "source": [
    "# <write your code here>"
   ]
  },
  {
   "cell_type": "markdown",
   "id": "e4e83209",
   "metadata": {},
   "source": [
    "#### Build and train two machine learning models:\n",
    "1. Logistic Regression\n",
    "2. KNN\n",
    "\n",
    "#### You need to specify the number of neighbors in KNN, and the max_iter in Logistic Regression"
   ]
  },
  {
   "cell_type": "code",
   "execution_count": null,
   "id": "65fccc93",
   "metadata": {},
   "outputs": [],
   "source": [
    "# <write your code here>"
   ]
  },
  {
   "cell_type": "markdown",
   "id": "bf2ccc20",
   "metadata": {},
   "source": [
    "#### Obtain the list of predictions for each model from the test data as preparation for the evaluation we will do in the next practical exercise\n",
    "\n",
    "#### Make sure to use the test data"
   ]
  },
  {
   "cell_type": "code",
   "execution_count": 44,
   "id": "c6b554f7",
   "metadata": {},
   "outputs": [],
   "source": [
    "# <write your code here>"
   ]
  },
  {
   "cell_type": "markdown",
   "id": "c58d2333",
   "metadata": {},
   "source": [
    "## -------- Practical Exercise 3.6 ends here --------"
   ]
  },
  {
   "cell_type": "markdown",
   "id": "c7544658",
   "metadata": {},
   "source": [
    "## -------- Practical Exercise 4.8 starts here --------"
   ]
  },
  {
   "cell_type": "markdown",
   "id": "8a7a5f7a-e4f0-44e3-9f41-4351477c0d04",
   "metadata": {},
   "source": [
    "### Evaluating the models"
   ]
  },
  {
   "cell_type": "markdown",
   "id": "dbb13e95-f395-481c-b4e2-3c900794231e",
   "metadata": {},
   "source": [
    "#### Compute the accuracy score for both Logistic Regression and KNN"
   ]
  },
  {
   "cell_type": "code",
   "execution_count": null,
   "id": "c56da16c",
   "metadata": {},
   "outputs": [],
   "source": [
    "# <write your code here>"
   ]
  },
  {
   "cell_type": "markdown",
   "id": "14c1ac7a",
   "metadata": {},
   "source": [
    "#### Compute the confusion matrix for both Logistic Regression and KNN"
   ]
  },
  {
   "cell_type": "code",
   "execution_count": null,
   "id": "75a00c31",
   "metadata": {},
   "outputs": [],
   "source": [
    "# <write your code here>"
   ]
  },
  {
   "cell_type": "markdown",
   "id": "c9b40268-2e57-46d4-8ed5-f99d23dc16b1",
   "metadata": {},
   "source": [
    "#### Compute the precision score for both Logistic Regression and KNN"
   ]
  },
  {
   "cell_type": "code",
   "execution_count": null,
   "id": "70fd5d29",
   "metadata": {},
   "outputs": [],
   "source": [
    "# <write your code here>"
   ]
  },
  {
   "cell_type": "markdown",
   "id": "90470d0b-7db1-4c20-8373-67c2a57630d1",
   "metadata": {},
   "source": [
    "#### Compute the recall score for both Logistic Regression and KNN"
   ]
  },
  {
   "cell_type": "code",
   "execution_count": null,
   "id": "c6c21790",
   "metadata": {},
   "outputs": [],
   "source": [
    "# <write your code here>"
   ]
  },
  {
   "cell_type": "markdown",
   "id": "2c2cabb9-972c-4e4c-bf15-1e8cc46b1419",
   "metadata": {},
   "source": [
    "#### Compute the f-measure score for both Logistic Regression and KNN"
   ]
  },
  {
   "cell_type": "code",
   "execution_count": null,
   "id": "b56ac5a0",
   "metadata": {},
   "outputs": [],
   "source": [
    "# <write your code here>"
   ]
  },
  {
   "cell_type": "markdown",
   "id": "fcd6cb55",
   "metadata": {},
   "source": [
    "#### According to the values obtained, which model do you think is better and why?"
   ]
  },
  {
   "cell_type": "markdown",
   "id": "75efb572",
   "metadata": {},
   "source": [
    "\\<write your answer here\\>"
   ]
  },
  {
   "cell_type": "markdown",
   "id": "99d14995",
   "metadata": {},
   "source": [
    "## -------- Practical Exercise 4.8 ends here --------"
   ]
  },
  {
   "cell_type": "code",
   "execution_count": null,
   "id": "90839055",
   "metadata": {},
   "outputs": [],
   "source": []
  }
 ],
 "metadata": {
  "kernelspec": {
   "display_name": "Python 3 (ipykernel)",
   "language": "python",
   "name": "python3"
  },
  "language_info": {
   "codemirror_mode": {
    "name": "ipython",
    "version": 3
   },
   "file_extension": ".py",
   "mimetype": "text/x-python",
   "name": "python",
   "nbconvert_exporter": "python",
   "pygments_lexer": "ipython3",
   "version": "3.9.12"
  }
 },
 "nbformat": 4,
 "nbformat_minor": 5
}
