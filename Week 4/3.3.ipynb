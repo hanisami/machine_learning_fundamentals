{
 "cells": [
  {
   "cell_type": "code",
   "execution_count": 2,
   "id": "8ad4be0c-3665-4e6e-98b6-733206b41d8b",
   "metadata": {},
   "outputs": [
    {
     "name": "stdout",
     "output_type": "stream",
     "text": [
      "Accuracy with OvA: 0.9193\n"
     ]
    }
   ],
   "source": [
    "from sklearn.datasets import load_digits\n",
    "from sklearn.linear_model import LogisticRegression\n",
    "from sklearn.model_selection import cross_val_score\n",
    "\n",
    "# Load the dataset\n",
    "digits = load_digits()\n",
    "X, y = digits.data, digits.target\n",
    "\n",
    "# Create a Logistic Regression classifier using OvA strategy\n",
    "ova_clf = LogisticRegression(multi_class='ovr', solver='liblinear')\n",
    "scores_ova = cross_val_score(ova_clf, X, y, cv=3, scoring='accuracy')\n",
    "\n",
    "print(f'Accuracy with OvA: {scores_ova.mean():.4f}')\n"
   ]
  },
  {
   "cell_type": "code",
   "execution_count": 5,
   "id": "0a4719b4-d1d6-4c4d-9e94-9b73ca066ad9",
   "metadata": {},
   "outputs": [
    {
     "name": "stdout",
     "output_type": "stream",
     "text": [
      "[[ 16.02228352 -27.44661592 -19.04473615 ... -12.52833789  -9.41947165\n",
      "  -10.26392214]\n",
      " [-39.88864953   7.01314384 -21.08409288 ... -29.26328169  -7.50412274\n",
      "  -21.29478922]\n",
      " [-24.160258    -5.35411981   8.54219286 ... -34.43338876  -2.36385258\n",
      "  -27.64378618]\n",
      " ...\n",
      " [-26.935025    -8.30854191 -19.48589903 ... -34.18946543   5.19950993\n",
      "  -22.91963613]\n",
      " [ -7.48583579 -12.10735375 -25.21846018 ... -26.9114318   -3.8301822\n",
      "   11.31079866]\n",
      " [-25.12214391 -14.38765623 -20.69039852 ... -40.88784243   2.60609256\n",
      "  -12.03946157]]\n"
     ]
    }
   ],
   "source": [
    "ova_clf.fit(X,y)\n",
    "print(ova_clf.decision_function(X))"
   ]
  },
  {
   "cell_type": "code",
   "execution_count": 10,
   "id": "0cedf977-aaca-44a7-a4c7-f86439458da9",
   "metadata": {},
   "outputs": [
    {
     "name": "stdout",
     "output_type": "stream",
     "text": [
      "Accuracy: 1.0000\n"
     ]
    }
   ],
   "source": [
    "from sklearn.datasets import load_iris\n",
    "from sklearn.neighbors import KNeighborsClassifier\n",
    "from sklearn.model_selection import train_test_split\n",
    "from sklearn.metrics import accuracy_score\n",
    "\n",
    "# Load the Iris dataset\n",
    "iris = load_iris()\n",
    "X, y = iris.data, iris.target\n",
    "\n",
    "# Split the dataset into training and testing sets\n",
    "X_train, X_test, y_train, y_test = train_test_split(X, y, test_size=0.2, random_state=42)\n",
    "\n",
    "# Create a k-NN classifier\n",
    "clf = KNeighborsClassifier(n_neighbors=3)\n",
    "\n",
    "# Fit the classifier on the training data\n",
    "clf.fit(X_train, y_train)\n",
    "\n",
    "# Predict on the testing data\n",
    "y_pred = clf.predict(X_test)\n",
    "\n",
    "# Evaluate the accuracy\n",
    "accuracy = accuracy_score(y_test, y_pred)\n",
    "print(f'Accuracy: {accuracy:.4f}')"
   ]
  },
  {
   "cell_type": "code",
   "execution_count": null,
   "id": "f3ac957c-9345-4f28-9e1f-7cb3d4d7e385",
   "metadata": {},
   "outputs": [],
   "source": []
  }
 ],
 "metadata": {
  "kernelspec": {
   "display_name": "Python 3 (ipykernel)",
   "language": "python",
   "name": "python3"
  },
  "language_info": {
   "codemirror_mode": {
    "name": "ipython",
    "version": 3
   },
   "file_extension": ".py",
   "mimetype": "text/x-python",
   "name": "python",
   "nbconvert_exporter": "python",
   "pygments_lexer": "ipython3",
   "version": "3.8.18"
  }
 },
 "nbformat": 4,
 "nbformat_minor": 5
}
