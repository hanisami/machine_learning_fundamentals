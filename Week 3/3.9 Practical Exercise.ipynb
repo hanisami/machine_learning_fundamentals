{
 "cells": [
  {
   "cell_type": "code",
   "execution_count": null,
   "id": "8e90e7d9",
   "metadata": {},
   "outputs": [],
   "source": [
    "import numpy as np\n",
    "import pandas as pd"
   ]
  },
  {
   "cell_type": "markdown",
   "id": "13fd6e29-bf12-4340-8900-148ce1cef8cf",
   "metadata": {},
   "source": [
    "### Reading the dataset"
   ]
  },
  {
   "cell_type": "code",
   "execution_count": null,
   "id": "f6366d76",
   "metadata": {},
   "outputs": [],
   "source": [
    "boston = pd.read_csv('./housing.csv', header=None, delimiter=r\"\\s+\", names=['CRIM', 'ZN', 'INDUS', 'CHAS', 'NOX', 'RM', 'AGE', 'DIS', 'RAD', 'TAX', 'PTRATIO', 'B', 'LSTAT', 'MEDV'])\n",
    "\n",
    "# Display the first few rows of the dataset\n",
    "boston.head()"
   ]
  },
  {
   "cell_type": "markdown",
   "id": "3422e5b8-c5e1-4035-ae9f-1a6921de6755",
   "metadata": {},
   "source": [
    "### Data Preprocessing"
   ]
  },
  {
   "cell_type": "code",
   "execution_count": null,
   "id": "871cff6e",
   "metadata": {},
   "outputs": [],
   "source": [
    "X = boston[['RM', 'CRIM', 'ZN', 'INDUS', 'NOX']]  # for simplicity, we start with only these feature\n",
    "y = boston['MEDV']"
   ]
  },
  {
   "cell_type": "code",
   "execution_count": null,
   "id": "778ce034",
   "metadata": {},
   "outputs": [],
   "source": [
    "from sklearn.preprocessing import StandardScaler\n",
    "\n",
    "scaler = StandardScaler()\n",
    "X_scaled = scaler.fit_transform(X)"
   ]
  },
  {
   "cell_type": "markdown",
   "id": "da4f79c5-5256-4387-8caf-e3ce39b5188c",
   "metadata": {},
   "source": [
    "### Split the data and fit a linear regression model"
   ]
  },
  {
   "cell_type": "code",
   "execution_count": null,
   "id": "fb32b4ea",
   "metadata": {},
   "outputs": [],
   "source": [
    "X_train, X_test, y_train, y_test = train_test_split(X_scaled, y, test_size=0.2, random_state=42)\n",
    "\n",
    "# Fit a linear regression model\n",
    "# <write your code here>"
   ]
  },
  {
   "cell_type": "code",
   "execution_count": null,
   "id": "65b5e829",
   "metadata": {},
   "outputs": [],
   "source": [
    "from sklearn.metrics import mean_squared_error, r2_score\n",
    "\n",
    "# Compute the r2 score on the test data\n",
    "# <write your code here>"
   ]
  },
  {
   "cell_type": "code",
   "execution_count": null,
   "id": "147d3655",
   "metadata": {},
   "outputs": [],
   "source": [
    "from sklearn.model_selection import train_test_split, learning_curve, cross_val_score\n",
    "\n",
    "cv_scores = cross_val_score(model, X_train, y_train, cv=5, scoring='neg_mean_squared_error')\n",
    "print(\"Cross-Validation MSE:\", -cv_scores.mean())"
   ]
  },
  {
   "cell_type": "markdown",
   "id": "d32283ae-f567-4491-a86f-6900ded6e3b0",
   "metadata": {},
   "source": [
    "### Plot the learning curve"
   ]
  },
  {
   "cell_type": "code",
   "execution_count": null,
   "id": "7708511d",
   "metadata": {},
   "outputs": [],
   "source": [
    "# Plot the learning curve\n",
    "\n",
    "# <write your code here>"
   ]
  },
  {
   "cell_type": "code",
   "execution_count": null,
   "id": "f3fb82a2",
   "metadata": {},
   "outputs": [],
   "source": []
  }
 ],
 "metadata": {
  "kernelspec": {
   "display_name": "Python 3 (ipykernel)",
   "language": "python",
   "name": "python3"
  },
  "language_info": {
   "codemirror_mode": {
    "name": "ipython",
    "version": 3
   },
   "file_extension": ".py",
   "mimetype": "text/x-python",
   "name": "python",
   "nbconvert_exporter": "python",
   "pygments_lexer": "ipython3",
   "version": "3.8.18"
  }
 },
 "nbformat": 4,
 "nbformat_minor": 5
}
