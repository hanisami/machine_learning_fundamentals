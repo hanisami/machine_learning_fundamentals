{
 "cells": [
  {
   "cell_type": "code",
   "execution_count": null,
   "id": "8e90e7d9",
   "metadata": {},
   "outputs": [],
   "source": [
    "import numpy as np\n",
    "import pandas as pd"
   ]
  },
  {
   "cell_type": "markdown",
   "id": "13fd6e29-bf12-4340-8900-148ce1cef8cf",
   "metadata": {},
   "source": [
    "### Reading the dataset"
   ]
  },
  {
   "cell_type": "code",
   "execution_count": null,
   "id": "f6366d76",
   "metadata": {},
   "outputs": [],
   "source": [
    "boston = pd.read_csv('./housing.csv', header=None, delimiter=r\"\\s+\", names=['CRIM', 'ZN', 'INDUS', 'CHAS', 'NOX', 'RM', 'AGE', 'DIS', 'RAD', 'TAX', 'PTRATIO', 'B', 'LSTAT', 'MEDV'])\n",
    "\n",
    "# Display the first few rows of the dataset\n",
    "boston.head()"
   ]
  },
  {
   "cell_type": "markdown",
   "id": "3422e5b8-c5e1-4035-ae9f-1a6921de6755",
   "metadata": {},
   "source": [
    "### Data Preprocessing"
   ]
  },
  {
   "cell_type": "code",
   "execution_count": null,
   "id": "871cff6e",
   "metadata": {},
   "outputs": [],
   "source": [
    "X = boston[['RM', 'CRIM', 'ZN', 'INDUS', 'NOX']]  # for simplicity, we start with only these feature\n",
    "y = boston['MEDV']"
   ]
  },
  {
   "cell_type": "code",
   "execution_count": null,
   "id": "778ce034",
   "metadata": {},
   "outputs": [],
   "source": [
    "from sklearn.preprocessing import StandardScaler\n",
    "\n",
    "scaler = StandardScaler()\n",
    "X_scaled = scaler.fit_transform(X)"
   ]
  },
  {
   "cell_type": "markdown",
   "id": "da4f79c5-5256-4387-8caf-e3ce39b5188c",
   "metadata": {},
   "source": [
    "### Split the data and fit a linear regression model"
   ]
  },
  {
   "cell_type": "code",
   "execution_count": null,
   "id": "fb32b4ea",
   "metadata": {},
   "outputs": [],
   "source": [
    "X_train, X_test, y_train, y_test = train_test_split(X_scaled, y, test_size=0.2, random_state=42)\n",
    "\n",
    "# Fit a linear regression model\n",
    "# <write your code here>"
   ]
  },
  {
   "cell_type": "code",
   "execution_count": null,
   "id": "65b5e829",
   "metadata": {},
   "outputs": [],
   "source": [
    "from sklearn.metrics import mean_squared_error, r2_score\n",
    "\n",
    "# Compute the r2 score on the test data\n",
    "# <write your code here>"
   ]
  },
  {
   "cell_type": "code",
   "execution_count": null,
   "id": "147d3655",
   "metadata": {},
   "outputs": [],
   "source": [
    "from sklearn.model_selection import train_test_split, learning_curve, cross_val_score\n",
    "\n",
    "cv_scores = cross_val_score(model, X_train, y_train, cv=5, scoring='neg_mean_squared_error')\n",
    "print(\"Cross-Validation MSE:\", -cv_scores.mean())"
   ]
  },
  {
   "cell_type": "markdown",
   "id": "d32283ae-f567-4491-a86f-6900ded6e3b0",
   "metadata": {},
   "source": [
    "### Plot the learning curve"
   ]
  },
  {
   "cell_type": "code",
   "execution_count": null,
   "id": "7708511d",
   "metadata": {},
   "outputs": [],
   "source": [
    "# Plot the learning curve\n",
    "\n",
    "# <write your code here>"
   ]
  },
  {
   "cell_type": "code",
   "execution_count": null,
   "id": "f3fb82a2",
   "metadata": {},
   "outputs": [],
   "source": []
  },
  {
   "cell_type": "code",
   "execution_count": null,
   "id": "1784ce86",
   "metadata": {},
   "outputs": [],
   "source": [
    "feature=data.drop(['Price','Address'],axis=1).values\n",
    "target =data['Price'].values"
   ]
  },
  {
   "cell_type": "code",
   "execution_count": null,
   "id": "0f773326",
   "metadata": {},
   "outputs": [],
   "source": [
    "from sklearn.model_selection import train_test_split\n",
    "train,test,train_label,test_label=train_test_split(feature,target,test_size=0.33,random_state=222)"
   ]
  },
  {
   "cell_type": "code",
   "execution_count": null,
   "id": "c1f568f5",
   "metadata": {},
   "outputs": [],
   "source": [
    "from sklearn.linear_model import LinearRegression\n",
    "reg=LinearRegression(fit_intercept=True)\n",
    "model = reg.fit(train,train_label)\n",
    "predict = model.predict(test)"
   ]
  },
  {
   "cell_type": "code",
   "execution_count": null,
   "id": "ead7f0a6",
   "metadata": {},
   "outputs": [],
   "source": [
    "predict"
   ]
  },
  {
   "cell_type": "code",
   "execution_count": null,
   "id": "d000b48f",
   "metadata": {},
   "outputs": [],
   "source": [
    "from sklearn.metrics import mean_squared_error\n",
    "\n",
    "mse_test = mean_squared_error(test_label, predict)\n",
    "print(\"Testing MSE:\", mse_test)"
   ]
  },
  {
   "cell_type": "code",
   "execution_count": null,
   "id": "dbf0afc3",
   "metadata": {},
   "outputs": [],
   "source": [
    "from sklearn.model_selection import train_test_split, learning_curve, cross_val_score\n",
    "\n",
    "cv_scores = cross_val_score(reg, train, train_label, cv=5, scoring='neg_mean_squared_error')\n",
    "print(\"Cross-Validation MSE:\", -cv_scores.mean())"
   ]
  },
  {
   "cell_type": "code",
   "execution_count": null,
   "id": "e902a27d",
   "metadata": {},
   "outputs": [],
   "source": [
    "import matplotlib.pyplot as plt"
   ]
  },
  {
   "cell_type": "code",
   "execution_count": null,
   "id": "b25480ad",
   "metadata": {},
   "outputs": [],
   "source": [
    "train_sizes, train_scores, test_scores = learning_curve(reg, train, train_label, cv=5, scoring='neg_mean_squared_error')\n",
    "\n",
    "train_mean = -np.mean(train_scores, axis=1)\n",
    "test_mean = -np.mean(test_scores, axis=1)\n",
    "\n",
    "plt.figure(figsize=(10, 6))\n",
    "plt.plot(train_sizes, train_mean, label='Training MSE')\n",
    "plt.plot(train_sizes, test_mean, label='Validation MSE')\n",
    "plt.xlabel('Training Examples')\n",
    "plt.ylabel('Negative Mean Squared Error')\n",
    "plt.title('Learning Curve')\n",
    "plt.legend()\n",
    "plt.grid()\n",
    "plt.show()"
   ]
  },
  {
   "cell_type": "code",
   "execution_count": null,
   "id": "a236e0cf",
   "metadata": {},
   "outputs": [],
   "source": []
  }
 ],
 "metadata": {
  "kernelspec": {
   "display_name": "Python 3 (ipykernel)",
   "language": "python",
   "name": "python3"
  },
  "language_info": {
   "codemirror_mode": {
    "name": "ipython",
    "version": 3
   },
   "file_extension": ".py",
   "mimetype": "text/x-python",
   "name": "python",
   "nbconvert_exporter": "python",
   "pygments_lexer": "ipython3",
   "version": "3.8.18"
  }
 },
 "nbformat": 4,
 "nbformat_minor": 5
}
