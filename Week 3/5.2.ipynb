{
 "cells": [
  {
   "cell_type": "code",
   "execution_count": 2,
   "id": "dbf3131d-b84b-4f01-be37-886352ea2fc2",
   "metadata": {},
   "outputs": [
    {
     "name": "stdout",
     "output_type": "stream",
     "text": [
      "Probabilities after sigmoid transformation:\n",
      "[0.62245933 0.23147522 0.90887704]\n"
     ]
    }
   ],
   "source": [
    "import numpy as np\n",
    "\n",
    "# Define the sigmoid activation function\n",
    "def sigmoid(z):\n",
    "    return 1 / (1 + np.exp(-z))\n",
    "\n",
    "# Example linear regression output (z)\n",
    "z_linear = np.array([0.5, -1.2, 2.3])\n",
    "\n",
    "# Apply sigmoid activation function to transform linear regression output to logistic regression\n",
    "probabilities = sigmoid(z_linear)\n",
    "\n",
    "print(\"Probabilities after sigmoid transformation:\")\n",
    "print(probabilities)"
   ]
  },
  {
   "cell_type": "code",
   "execution_count": null,
   "id": "a001b837-ba95-458a-aec7-52dbca9f2051",
   "metadata": {},
   "outputs": [],
   "source": []
  }
 ],
 "metadata": {
  "kernelspec": {
   "display_name": "Python 3 (ipykernel)",
   "language": "python",
   "name": "python3"
  },
  "language_info": {
   "codemirror_mode": {
    "name": "ipython",
    "version": 3
   },
   "file_extension": ".py",
   "mimetype": "text/x-python",
   "name": "python",
   "nbconvert_exporter": "python",
   "pygments_lexer": "ipython3",
   "version": "3.9.12"
  }
 },
 "nbformat": 4,
 "nbformat_minor": 5
}
