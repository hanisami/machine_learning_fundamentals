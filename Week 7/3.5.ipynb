{
 "cells": [
  {
   "cell_type": "markdown",
   "id": "6e871f7b",
   "metadata": {
    "papermill": {
     "duration": 0.004067,
     "end_time": "2024-04-10T14:54:09.506481",
     "exception": false,
     "start_time": "2024-04-10T14:54:09.502414",
     "status": "completed"
    },
    "tags": []
   },
   "source": [
    "# Importing Necessary Packages"
   ]
  },
  {
   "cell_type": "code",
   "execution_count": 2,
   "id": "723a8eb8",
   "metadata": {
    "papermill": {
     "duration": 12.157084,
     "end_time": "2024-04-10T14:54:21.667442",
     "exception": false,
     "start_time": "2024-04-10T14:54:09.510358",
     "status": "completed"
    },
    "tags": []
   },
   "outputs": [],
   "source": [
    "import numpy as np\n",
    "import keras\n",
    "import tensorflow as tf\n",
    "from keras import layers\n",
    "from keras import models\n",
    "from keras.datasets import mnist"
   ]
  },
  {
   "cell_type": "markdown",
   "id": "4a5d7760",
   "metadata": {
    "papermill": {
     "duration": 0.003425,
     "end_time": "2024-04-10T14:54:21.675118",
     "exception": false,
     "start_time": "2024-04-10T14:54:21.671693",
     "status": "completed"
    },
    "tags": []
   },
   "source": [
    "# Data Preparation"
   ]
  },
  {
   "cell_type": "code",
   "execution_count": 3,
   "id": "2c196993",
   "metadata": {
    "papermill": {
     "duration": 0.590935,
     "end_time": "2024-04-10T14:54:22.269765",
     "exception": false,
     "start_time": "2024-04-10T14:54:21.678830",
     "status": "completed"
    },
    "tags": []
   },
   "outputs": [
    {
     "name": "stdout",
     "output_type": "stream",
     "text": [
      "X_train shape (60000, 28, 28)\n",
      "y_train shape (60000,)\n",
      "X_test shape (10000, 28, 28)\n",
      "y_test shape (10000,)\n"
     ]
    }
   ],
   "source": [
    "from keras.utils import to_categorical\n",
    "\n",
    "(X_train, y_train), (X_test, y_test) = mnist.load_data()\n",
    "\n",
    "print(\"X_train shape\", X_train.shape)\n",
    "print(\"y_train shape\", y_train.shape)\n",
    "print(\"X_test shape\", X_test.shape)\n",
    "print(\"y_test shape\", y_test.shape)\n",
    "\n",
    "X_train = X_train.reshape(X_train.shape[0], 28, 28, 1).astype('float32') / 255\n",
    "X_test = X_test.reshape(X_test.shape[0], 28, 28, 1).astype('float32') / 255\n",
    "Y_train = to_categorical(y_train, num_classes=10)\n",
    "Y_test = to_categorical(y_test, num_classes=10)"
   ]
  },
  {
   "cell_type": "markdown",
   "id": "6f612303",
   "metadata": {
    "papermill": {
     "duration": 0.004026,
     "end_time": "2024-04-10T14:54:22.278303",
     "exception": false,
     "start_time": "2024-04-10T14:54:22.274277",
     "status": "completed"
    },
    "tags": []
   },
   "source": [
    "# CNN Model"
   ]
  },
  {
   "cell_type": "code",
   "execution_count": 7,
   "id": "8f7d554c",
   "metadata": {
    "_kg_hide-output": true,
    "papermill": {
     "duration": 0.859344,
     "end_time": "2024-04-10T14:54:23.142792",
     "exception": false,
     "start_time": "2024-04-10T14:54:22.283448",
     "status": "completed"
    },
    "tags": []
   },
   "outputs": [],
   "source": [
    "from keras.layers import Conv2D, MaxPooling2D, Flatten, Dense, Dropout\n",
    "from keras.models import Sequential\n",
    "\n",
    "model = Sequential()\n",
    "model.add(Conv2D(32, kernel_size=(3,3), strides=(1,1),\n",
    "          padding='same', activation='relu', input_shape=(28,28,1)))\n",
    "model.add(MaxPooling2D(pool_size=(2,2), strides=(2,2)))\n",
    "model.add(Dropout(0.2))\n",
    "\n",
    "model.add(Conv2D(64, kernel_size=(3,3), strides=(1,1),\n",
    "          padding='same', activation='relu'))\n",
    "model.add(MaxPooling2D(pool_size=(2,2), strides=(2,2)))\n",
    "model.add(Dropout(0.2))\n",
    "\n",
    "model.add(Flatten())\n",
    "model.add(Dense(128, activation='relu'))\n",
    "model.add(Dense(10, activation='softmax'))\n",
    "\n",
    "\n",
    "model.compile(loss='categorical_crossentropy', optimizer='adam',\n",
    "              metrics=['accuracy'])"
   ]
  },
  {
   "cell_type": "code",
   "execution_count": 8,
   "id": "6d28be4c",
   "metadata": {
    "_kg_hide-output": true,
    "papermill": {
     "duration": 49.927097,
     "end_time": "2024-04-10T14:55:13.074575",
     "exception": false,
     "start_time": "2024-04-10T14:54:23.147478",
     "status": "completed"
    },
    "tags": []
   },
   "outputs": [
    {
     "name": "stdout",
     "output_type": "stream",
     "text": [
      "Epoch 1/10\n",
      "235/235 [==============================] - 38s 159ms/step - loss: 0.3190 - accuracy: 0.9075 - val_loss: 0.0750 - val_accuracy: 0.9771\n",
      "Epoch 2/10\n",
      "235/235 [==============================] - 35s 149ms/step - loss: 0.0824 - accuracy: 0.9746 - val_loss: 0.0453 - val_accuracy: 0.9854\n",
      "Epoch 3/10\n",
      "235/235 [==============================] - 35s 151ms/step - loss: 0.0567 - accuracy: 0.9823 - val_loss: 0.0376 - val_accuracy: 0.9867\n",
      "Epoch 4/10\n",
      "235/235 [==============================] - 37s 157ms/step - loss: 0.0458 - accuracy: 0.9859 - val_loss: 0.0316 - val_accuracy: 0.9893\n",
      "Epoch 5/10\n",
      "235/235 [==============================] - 36s 154ms/step - loss: 0.0386 - accuracy: 0.9880 - val_loss: 0.0280 - val_accuracy: 0.9907\n",
      "Epoch 6/10\n",
      "235/235 [==============================] - 36s 154ms/step - loss: 0.0316 - accuracy: 0.9898 - val_loss: 0.0252 - val_accuracy: 0.9915\n",
      "Epoch 7/10\n",
      "235/235 [==============================] - 36s 151ms/step - loss: 0.0283 - accuracy: 0.9910 - val_loss: 0.0248 - val_accuracy: 0.9918\n",
      "Epoch 8/10\n",
      "235/235 [==============================] - 35s 149ms/step - loss: 0.0244 - accuracy: 0.9919 - val_loss: 0.0266 - val_accuracy: 0.9914\n",
      "Epoch 9/10\n",
      "235/235 [==============================] - 35s 150ms/step - loss: 0.0219 - accuracy: 0.9928 - val_loss: 0.0268 - val_accuracy: 0.9908\n",
      "Epoch 10/10\n",
      "235/235 [==============================] - 36s 151ms/step - loss: 0.0200 - accuracy: 0.9933 - val_loss: 0.0256 - val_accuracy: 0.9907\n"
     ]
    }
   ],
   "source": [
    "history=model.fit(X_train, Y_train, batch_size=256,\n",
    "                  epochs=10, validation_data=(X_test, Y_test))"
   ]
  },
  {
   "cell_type": "code",
   "execution_count": 9,
   "id": "74fbb82a",
   "metadata": {
    "papermill": {
     "duration": 0.092366,
     "end_time": "2024-04-10T14:55:13.231790",
     "exception": false,
     "start_time": "2024-04-10T14:55:13.139424",
     "status": "completed"
    },
    "tags": []
   },
   "outputs": [
    {
     "name": "stdout",
     "output_type": "stream",
     "text": [
      "Model: \"sequential_1\"\n",
      "_________________________________________________________________\n",
      " Layer (type)                Output Shape              Param #   \n",
      "=================================================================\n",
      " conv2d_1 (Conv2D)           (None, 28, 28, 32)        320       \n",
      "                                                                 \n",
      " max_pooling2d_1 (MaxPooling  (None, 14, 14, 32)       0         \n",
      " 2D)                                                             \n",
      "                                                                 \n",
      " dropout_1 (Dropout)         (None, 14, 14, 32)        0         \n",
      "                                                                 \n",
      " conv2d_2 (Conv2D)           (None, 14, 14, 64)        18496     \n",
      "                                                                 \n",
      " max_pooling2d_2 (MaxPooling  (None, 7, 7, 64)         0         \n",
      " 2D)                                                             \n",
      "                                                                 \n",
      " dropout_2 (Dropout)         (None, 7, 7, 64)          0         \n",
      "                                                                 \n",
      " flatten_1 (Flatten)         (None, 3136)              0         \n",
      "                                                                 \n",
      " dense_2 (Dense)             (None, 128)               401536    \n",
      "                                                                 \n",
      " dense_3 (Dense)             (None, 10)                1290      \n",
      "                                                                 \n",
      "=================================================================\n",
      "Total params: 421,642\n",
      "Trainable params: 421,642\n",
      "Non-trainable params: 0\n",
      "_________________________________________________________________\n"
     ]
    }
   ],
   "source": [
    "model.summary()"
   ]
  },
  {
   "cell_type": "code",
   "execution_count": 10,
   "id": "8a01824b",
   "metadata": {
    "papermill": {
     "duration": 1.185201,
     "end_time": "2024-04-10T14:55:14.481978",
     "exception": false,
     "start_time": "2024-04-10T14:55:13.296777",
     "status": "completed"
    },
    "tags": []
   },
   "outputs": [
    {
     "name": "stdout",
     "output_type": "stream",
     "text": [
      "313/313 - 3s - loss: 0.0256 - accuracy: 0.9907 - 3s/epoch - 11ms/step\n",
      "Test loss: 2.5590840727090836\n",
      "Test accuracy: 99.07000064849854\n"
     ]
    }
   ],
   "source": [
    "test_scores = model.evaluate(X_test, Y_test, verbose=2)\n",
    "loss_cnn = test_scores[0]*100\n",
    "accuracy_cnn =  test_scores[1]*100\n",
    "print('Test loss:', loss_cnn)\n",
    "print('Test accuracy:', accuracy_cnn)"
   ]
  },
  {
   "cell_type": "code",
   "execution_count": 11,
   "id": "4f9e3e7c",
   "metadata": {
    "papermill": {
     "duration": 0.33337,
     "end_time": "2024-04-10T14:55:14.880437",
     "exception": false,
     "start_time": "2024-04-10T14:55:14.547067",
     "status": "completed"
    },
    "tags": []
   },
   "outputs": [
    {
     "data": {
      "image/png": "[encoded data removed]",
      "text/plain": [
       "<Figure size 640x480 with 1 Axes>"
      ]
     },
     "metadata": {},
     "output_type": "display_data"
    }
   ],
   "source": [
    "import matplotlib.pyplot as plt\n",
    "\n",
    "train_acc = history.history['accuracy']\n",
    "val_acc = history.history['val_accuracy']\n",
    "\n",
    "plt.plot(range(1, len(train_acc) + 1), train_acc, label='Training Accuracy')\n",
    "plt.plot(range(1, len(val_acc) + 1), val_acc, label='Validation Accuracy')\n",
    "plt.title('Training and Validation Accuracy')\n",
    "plt.xlabel('Epochs')\n",
    "plt.ylabel('Accuracy')\n",
    "plt.legend()\n",
    "plt.show()"
   ]
  },
  {
   "cell_type": "code",
   "execution_count": 12,
   "id": "0c751596",
   "metadata": {
    "papermill": {
     "duration": 0.308719,
     "end_time": "2024-04-10T14:55:15.254958",
     "exception": false,
     "start_time": "2024-04-10T14:55:14.946239",
     "status": "completed"
    },
    "tags": []
   },
   "outputs": [
    {
     "data": {
      "image/png": "[encoded data removed]",
      "text/plain": [
       "<Figure size 640x480 with 1 Axes>"
      ]
     },
     "metadata": {},
     "output_type": "display_data"
    }
   ],
   "source": [
    "import matplotlib.pyplot as plt\n",
    "\n",
    "train_loss = history.history['loss']\n",
    "val_loss = history.history['val_loss']\n",
    "\n",
    "plt.plot(range(1, len(train_loss) + 1), train_loss, label='Training Loss')\n",
    "plt.plot(range(1, len(val_loss) + 1), val_loss, label='Validation Loss')\n",
    "plt.title('Training and Validation Loss')\n",
    "plt.xlabel('Epochs')\n",
    "plt.ylabel('Loss')\n",
    "plt.legend()\n",
    "plt.show()"
   ]
  },
  {
   "cell_type": "code",
   "execution_count": null,
   "id": "944c93e7-f9c4-40ab-a02a-9de3c7051d2f",
   "metadata": {},
   "outputs": [],
   "source": []
  }
 ],
 "metadata": {
  "kaggle": {
   "accelerator": "nvidiaTeslaT4",
   "dataSources": [
    {
     "datasetId": 102285,
     "sourceId": 242592,
     "sourceType": "datasetVersion"
    }
   ],
   "dockerImageVersionId": 30665,
   "isGpuEnabled": true,
   "isInternetEnabled": true,
   "language": "python",
   "sourceType": "notebook"
  },
  "kernelspec": {
   "display_name": "Python 3 (ipykernel)",
   "language": "python",
   "name": "python3"
  },
  "language_info": {
   "codemirror_mode": {
    "name": "ipython",
    "version": 3
   },
   "file_extension": ".py",
   "mimetype": "text/x-python",
   "name": "python",
   "nbconvert_exporter": "python",
   "pygments_lexer": "ipython3",
   "version": "3.8.18"
  },
  "papermill": {
   "default_parameters": {},
   "duration": 71.03719,
   "end_time": "2024-04-10T14:55:17.947121",
   "environment_variables": {},
   "exception": null,
   "input_path": "__notebook__.ipynb",
   "output_path": "__notebook__.ipynb",
   "parameters": {},
   "start_time": "2024-04-10T14:54:06.909931",
   "version": "2.5.0"
  }
 },
 "nbformat": 4,
 "nbformat_minor": 5
}
